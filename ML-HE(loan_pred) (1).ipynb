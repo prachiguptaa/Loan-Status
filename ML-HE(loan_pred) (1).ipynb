{
 "cells": [
  {
   "cell_type": "code",
   "execution_count": 1,
   "metadata": {},
   "outputs": [],
   "source": [
    "import pandas as pd\n",
    "import numpy as np\n",
    "import matplotlib.pyplot as plt\n",
    "import seaborn as sns\n",
    "%matplotlib inline"
   ]
  },
  {
   "cell_type": "code",
   "execution_count": 2,
   "metadata": {},
   "outputs": [],
   "source": [
    "import warnings\n",
    "warnings.filterwarnings(\"ignore\")"
   ]
  },
  {
   "cell_type": "markdown",
   "metadata": {},
   "source": [
    "## DATA PREPARATION"
   ]
  },
  {
   "cell_type": "code",
   "execution_count": 3,
   "metadata": {},
   "outputs": [],
   "source": [
    "train_df = pd.read_csv(r'C:\\Users\\PRACHI\\Downloads\\ML\\train_indessa.csv')\n",
    "test_df = pd.read_csv(r'C:\\Users\\PRACHI\\Downloads\\ML\\test_indessa.csv')"
   ]
  },
  {
   "cell_type": "code",
   "execution_count": 4,
   "metadata": {},
   "outputs": [],
   "source": [
    "pd.set_option('display.max_columns', None)"
   ]
  },
  {
   "cell_type": "code",
   "execution_count": 5,
   "metadata": {},
   "outputs": [
    {
     "data": {
      "text/plain": [
       "(532428, 45)"
      ]
     },
     "execution_count": 5,
     "metadata": {},
     "output_type": "execute_result"
    }
   ],
   "source": [
    "train_df.shape"
   ]
  },
  {
   "cell_type": "code",
   "execution_count": 6,
   "metadata": {},
   "outputs": [
    {
     "data": {
      "text/plain": [
       "(354951, 44)"
      ]
     },
     "execution_count": 6,
     "metadata": {},
     "output_type": "execute_result"
    }
   ],
   "source": [
    "test_df.shape"
   ]
  },
  {
   "cell_type": "code",
   "execution_count": 7,
   "metadata": {},
   "outputs": [
    {
     "data": {
      "text/html": [
       "<div>\n",
       "<style scoped>\n",
       "    .dataframe tbody tr th:only-of-type {\n",
       "        vertical-align: middle;\n",
       "    }\n",
       "\n",
       "    .dataframe tbody tr th {\n",
       "        vertical-align: top;\n",
       "    }\n",
       "\n",
       "    .dataframe thead th {\n",
       "        text-align: right;\n",
       "    }\n",
       "</style>\n",
       "<table border=\"1\" class=\"dataframe\">\n",
       "  <thead>\n",
       "    <tr style=\"text-align: right;\">\n",
       "      <th></th>\n",
       "      <th>member_id</th>\n",
       "      <th>loan_amnt</th>\n",
       "      <th>funded_amnt</th>\n",
       "      <th>funded_amnt_inv</th>\n",
       "      <th>term</th>\n",
       "      <th>batch_enrolled</th>\n",
       "      <th>int_rate</th>\n",
       "      <th>grade</th>\n",
       "      <th>sub_grade</th>\n",
       "      <th>emp_title</th>\n",
       "      <th>emp_length</th>\n",
       "      <th>home_ownership</th>\n",
       "      <th>annual_inc</th>\n",
       "      <th>verification_status</th>\n",
       "      <th>pymnt_plan</th>\n",
       "      <th>desc</th>\n",
       "      <th>purpose</th>\n",
       "      <th>title</th>\n",
       "      <th>zip_code</th>\n",
       "      <th>addr_state</th>\n",
       "      <th>dti</th>\n",
       "      <th>delinq_2yrs</th>\n",
       "      <th>inq_last_6mths</th>\n",
       "      <th>mths_since_last_delinq</th>\n",
       "      <th>mths_since_last_record</th>\n",
       "      <th>open_acc</th>\n",
       "      <th>pub_rec</th>\n",
       "      <th>revol_bal</th>\n",
       "      <th>revol_util</th>\n",
       "      <th>total_acc</th>\n",
       "      <th>initial_list_status</th>\n",
       "      <th>total_rec_int</th>\n",
       "      <th>total_rec_late_fee</th>\n",
       "      <th>recoveries</th>\n",
       "      <th>collection_recovery_fee</th>\n",
       "      <th>collections_12_mths_ex_med</th>\n",
       "      <th>mths_since_last_major_derog</th>\n",
       "      <th>application_type</th>\n",
       "      <th>verification_status_joint</th>\n",
       "      <th>last_week_pay</th>\n",
       "      <th>acc_now_delinq</th>\n",
       "      <th>tot_coll_amt</th>\n",
       "      <th>tot_cur_bal</th>\n",
       "      <th>total_rev_hi_lim</th>\n",
       "      <th>loan_status</th>\n",
       "    </tr>\n",
       "  </thead>\n",
       "  <tbody>\n",
       "    <tr>\n",
       "      <th>0</th>\n",
       "      <td>58189336</td>\n",
       "      <td>14350</td>\n",
       "      <td>14350</td>\n",
       "      <td>14350.0</td>\n",
       "      <td>36 months</td>\n",
       "      <td></td>\n",
       "      <td>19.19</td>\n",
       "      <td>E</td>\n",
       "      <td>E3</td>\n",
       "      <td>clerk</td>\n",
       "      <td>9 years</td>\n",
       "      <td>OWN</td>\n",
       "      <td>28700.0</td>\n",
       "      <td>Source Verified</td>\n",
       "      <td>n</td>\n",
       "      <td>NaN</td>\n",
       "      <td>debt_consolidation</td>\n",
       "      <td>Debt consolidation</td>\n",
       "      <td>349xx</td>\n",
       "      <td>FL</td>\n",
       "      <td>33.88</td>\n",
       "      <td>0.0</td>\n",
       "      <td>1.0</td>\n",
       "      <td>50.0</td>\n",
       "      <td>75.0</td>\n",
       "      <td>14.0</td>\n",
       "      <td>1.0</td>\n",
       "      <td>22515.0</td>\n",
       "      <td>73.1</td>\n",
       "      <td>28.0</td>\n",
       "      <td>f</td>\n",
       "      <td>1173.84</td>\n",
       "      <td>0.0</td>\n",
       "      <td>0.0</td>\n",
       "      <td>0.0</td>\n",
       "      <td>0.0</td>\n",
       "      <td>74.0</td>\n",
       "      <td>INDIVIDUAL</td>\n",
       "      <td>NaN</td>\n",
       "      <td>26th week</td>\n",
       "      <td>0.0</td>\n",
       "      <td>0.0</td>\n",
       "      <td>28699.0</td>\n",
       "      <td>30800.0</td>\n",
       "      <td>0</td>\n",
       "    </tr>\n",
       "    <tr>\n",
       "      <th>1</th>\n",
       "      <td>70011223</td>\n",
       "      <td>4800</td>\n",
       "      <td>4800</td>\n",
       "      <td>4800.0</td>\n",
       "      <td>36 months</td>\n",
       "      <td>BAT1586599</td>\n",
       "      <td>10.99</td>\n",
       "      <td>B</td>\n",
       "      <td>B4</td>\n",
       "      <td>Human Resources Specialist</td>\n",
       "      <td>&lt; 1 year</td>\n",
       "      <td>MORTGAGE</td>\n",
       "      <td>65000.0</td>\n",
       "      <td>Source Verified</td>\n",
       "      <td>n</td>\n",
       "      <td>NaN</td>\n",
       "      <td>home_improvement</td>\n",
       "      <td>Home improvement</td>\n",
       "      <td>209xx</td>\n",
       "      <td>MD</td>\n",
       "      <td>3.64</td>\n",
       "      <td>0.0</td>\n",
       "      <td>1.0</td>\n",
       "      <td>NaN</td>\n",
       "      <td>NaN</td>\n",
       "      <td>6.0</td>\n",
       "      <td>0.0</td>\n",
       "      <td>7624.0</td>\n",
       "      <td>23.2</td>\n",
       "      <td>13.0</td>\n",
       "      <td>w</td>\n",
       "      <td>83.95</td>\n",
       "      <td>0.0</td>\n",
       "      <td>0.0</td>\n",
       "      <td>0.0</td>\n",
       "      <td>0.0</td>\n",
       "      <td>NaN</td>\n",
       "      <td>INDIVIDUAL</td>\n",
       "      <td>NaN</td>\n",
       "      <td>9th week</td>\n",
       "      <td>0.0</td>\n",
       "      <td>0.0</td>\n",
       "      <td>9974.0</td>\n",
       "      <td>32900.0</td>\n",
       "      <td>0</td>\n",
       "    </tr>\n",
       "    <tr>\n",
       "      <th>2</th>\n",
       "      <td>70255675</td>\n",
       "      <td>10000</td>\n",
       "      <td>10000</td>\n",
       "      <td>10000.0</td>\n",
       "      <td>36 months</td>\n",
       "      <td>BAT1586599</td>\n",
       "      <td>7.26</td>\n",
       "      <td>A</td>\n",
       "      <td>A4</td>\n",
       "      <td>Driver</td>\n",
       "      <td>2 years</td>\n",
       "      <td>OWN</td>\n",
       "      <td>45000.0</td>\n",
       "      <td>Not Verified</td>\n",
       "      <td>n</td>\n",
       "      <td>NaN</td>\n",
       "      <td>debt_consolidation</td>\n",
       "      <td>Debt consolidation</td>\n",
       "      <td>447xx</td>\n",
       "      <td>OH</td>\n",
       "      <td>18.42</td>\n",
       "      <td>0.0</td>\n",
       "      <td>0.0</td>\n",
       "      <td>NaN</td>\n",
       "      <td>NaN</td>\n",
       "      <td>5.0</td>\n",
       "      <td>0.0</td>\n",
       "      <td>10877.0</td>\n",
       "      <td>31.2</td>\n",
       "      <td>19.0</td>\n",
       "      <td>w</td>\n",
       "      <td>56.47</td>\n",
       "      <td>0.0</td>\n",
       "      <td>0.0</td>\n",
       "      <td>0.0</td>\n",
       "      <td>0.0</td>\n",
       "      <td>NaN</td>\n",
       "      <td>INDIVIDUAL</td>\n",
       "      <td>NaN</td>\n",
       "      <td>9th week</td>\n",
       "      <td>0.0</td>\n",
       "      <td>65.0</td>\n",
       "      <td>38295.0</td>\n",
       "      <td>34900.0</td>\n",
       "      <td>0</td>\n",
       "    </tr>\n",
       "    <tr>\n",
       "      <th>3</th>\n",
       "      <td>1893936</td>\n",
       "      <td>15000</td>\n",
       "      <td>15000</td>\n",
       "      <td>15000.0</td>\n",
       "      <td>36 months</td>\n",
       "      <td>BAT4808022</td>\n",
       "      <td>19.72</td>\n",
       "      <td>D</td>\n",
       "      <td>D5</td>\n",
       "      <td>Us office of Personnel Management</td>\n",
       "      <td>10+ years</td>\n",
       "      <td>RENT</td>\n",
       "      <td>105000.0</td>\n",
       "      <td>Not Verified</td>\n",
       "      <td>n</td>\n",
       "      <td>&gt; My goal is to obtain a loan to pay off my hi...</td>\n",
       "      <td>debt_consolidation</td>\n",
       "      <td>Debt consolidation</td>\n",
       "      <td>221xx</td>\n",
       "      <td>VA</td>\n",
       "      <td>14.97</td>\n",
       "      <td>0.0</td>\n",
       "      <td>2.0</td>\n",
       "      <td>46.0</td>\n",
       "      <td>NaN</td>\n",
       "      <td>10.0</td>\n",
       "      <td>0.0</td>\n",
       "      <td>13712.0</td>\n",
       "      <td>55.5</td>\n",
       "      <td>21.0</td>\n",
       "      <td>f</td>\n",
       "      <td>4858.62</td>\n",
       "      <td>0.0</td>\n",
       "      <td>0.0</td>\n",
       "      <td>0.0</td>\n",
       "      <td>0.0</td>\n",
       "      <td>NaN</td>\n",
       "      <td>INDIVIDUAL</td>\n",
       "      <td>NaN</td>\n",
       "      <td>135th week</td>\n",
       "      <td>0.0</td>\n",
       "      <td>0.0</td>\n",
       "      <td>55564.0</td>\n",
       "      <td>24700.0</td>\n",
       "      <td>0</td>\n",
       "    </tr>\n",
       "    <tr>\n",
       "      <th>4</th>\n",
       "      <td>7652106</td>\n",
       "      <td>16000</td>\n",
       "      <td>16000</td>\n",
       "      <td>16000.0</td>\n",
       "      <td>36 months</td>\n",
       "      <td>BAT2833642</td>\n",
       "      <td>10.64</td>\n",
       "      <td>B</td>\n",
       "      <td>B2</td>\n",
       "      <td>LAUSD-HOLLYWOOD HIGH SCHOOL</td>\n",
       "      <td>10+ years</td>\n",
       "      <td>RENT</td>\n",
       "      <td>52000.0</td>\n",
       "      <td>Verified</td>\n",
       "      <td>n</td>\n",
       "      <td>NaN</td>\n",
       "      <td>credit_card</td>\n",
       "      <td>refi</td>\n",
       "      <td>900xx</td>\n",
       "      <td>CA</td>\n",
       "      <td>20.16</td>\n",
       "      <td>0.0</td>\n",
       "      <td>0.0</td>\n",
       "      <td>NaN</td>\n",
       "      <td>NaN</td>\n",
       "      <td>11.0</td>\n",
       "      <td>0.0</td>\n",
       "      <td>35835.0</td>\n",
       "      <td>76.2</td>\n",
       "      <td>27.0</td>\n",
       "      <td>w</td>\n",
       "      <td>2296.41</td>\n",
       "      <td>0.0</td>\n",
       "      <td>0.0</td>\n",
       "      <td>0.0</td>\n",
       "      <td>0.0</td>\n",
       "      <td>NaN</td>\n",
       "      <td>INDIVIDUAL</td>\n",
       "      <td>NaN</td>\n",
       "      <td>96th week</td>\n",
       "      <td>0.0</td>\n",
       "      <td>0.0</td>\n",
       "      <td>47159.0</td>\n",
       "      <td>47033.0</td>\n",
       "      <td>0</td>\n",
       "    </tr>\n",
       "  </tbody>\n",
       "</table>\n",
       "</div>"
      ],
      "text/plain": [
       "   member_id  loan_amnt  funded_amnt  funded_amnt_inv       term  \\\n",
       "0   58189336      14350        14350          14350.0  36 months   \n",
       "1   70011223       4800         4800           4800.0  36 months   \n",
       "2   70255675      10000        10000          10000.0  36 months   \n",
       "3    1893936      15000        15000          15000.0  36 months   \n",
       "4    7652106      16000        16000          16000.0  36 months   \n",
       "\n",
       "  batch_enrolled  int_rate grade sub_grade                          emp_title  \\\n",
       "0                    19.19     E        E3                              clerk   \n",
       "1     BAT1586599     10.99     B        B4         Human Resources Specialist   \n",
       "2     BAT1586599      7.26     A        A4                             Driver   \n",
       "3     BAT4808022     19.72     D        D5  Us office of Personnel Management   \n",
       "4     BAT2833642     10.64     B        B2        LAUSD-HOLLYWOOD HIGH SCHOOL   \n",
       "\n",
       "  emp_length home_ownership  annual_inc verification_status pymnt_plan  \\\n",
       "0    9 years            OWN     28700.0     Source Verified          n   \n",
       "1   < 1 year       MORTGAGE     65000.0     Source Verified          n   \n",
       "2    2 years            OWN     45000.0        Not Verified          n   \n",
       "3  10+ years           RENT    105000.0        Not Verified          n   \n",
       "4  10+ years           RENT     52000.0            Verified          n   \n",
       "\n",
       "                                                desc             purpose  \\\n",
       "0                                                NaN  debt_consolidation   \n",
       "1                                                NaN    home_improvement   \n",
       "2                                                NaN  debt_consolidation   \n",
       "3  > My goal is to obtain a loan to pay off my hi...  debt_consolidation   \n",
       "4                                                NaN         credit_card   \n",
       "\n",
       "                title zip_code addr_state    dti  delinq_2yrs  inq_last_6mths  \\\n",
       "0  Debt consolidation    349xx         FL  33.88          0.0             1.0   \n",
       "1    Home improvement    209xx         MD   3.64          0.0             1.0   \n",
       "2  Debt consolidation    447xx         OH  18.42          0.0             0.0   \n",
       "3  Debt consolidation    221xx         VA  14.97          0.0             2.0   \n",
       "4                refi    900xx         CA  20.16          0.0             0.0   \n",
       "\n",
       "   mths_since_last_delinq  mths_since_last_record  open_acc  pub_rec  \\\n",
       "0                    50.0                    75.0      14.0      1.0   \n",
       "1                     NaN                     NaN       6.0      0.0   \n",
       "2                     NaN                     NaN       5.0      0.0   \n",
       "3                    46.0                     NaN      10.0      0.0   \n",
       "4                     NaN                     NaN      11.0      0.0   \n",
       "\n",
       "   revol_bal  revol_util  total_acc initial_list_status  total_rec_int  \\\n",
       "0    22515.0        73.1       28.0                   f        1173.84   \n",
       "1     7624.0        23.2       13.0                   w          83.95   \n",
       "2    10877.0        31.2       19.0                   w          56.47   \n",
       "3    13712.0        55.5       21.0                   f        4858.62   \n",
       "4    35835.0        76.2       27.0                   w        2296.41   \n",
       "\n",
       "   total_rec_late_fee  recoveries  collection_recovery_fee  \\\n",
       "0                 0.0         0.0                      0.0   \n",
       "1                 0.0         0.0                      0.0   \n",
       "2                 0.0         0.0                      0.0   \n",
       "3                 0.0         0.0                      0.0   \n",
       "4                 0.0         0.0                      0.0   \n",
       "\n",
       "   collections_12_mths_ex_med  mths_since_last_major_derog application_type  \\\n",
       "0                         0.0                         74.0       INDIVIDUAL   \n",
       "1                         0.0                          NaN       INDIVIDUAL   \n",
       "2                         0.0                          NaN       INDIVIDUAL   \n",
       "3                         0.0                          NaN       INDIVIDUAL   \n",
       "4                         0.0                          NaN       INDIVIDUAL   \n",
       "\n",
       "  verification_status_joint last_week_pay  acc_now_delinq  tot_coll_amt  \\\n",
       "0                       NaN     26th week             0.0           0.0   \n",
       "1                       NaN      9th week             0.0           0.0   \n",
       "2                       NaN      9th week             0.0          65.0   \n",
       "3                       NaN    135th week             0.0           0.0   \n",
       "4                       NaN     96th week             0.0           0.0   \n",
       "\n",
       "   tot_cur_bal  total_rev_hi_lim  loan_status  \n",
       "0      28699.0           30800.0            0  \n",
       "1       9974.0           32900.0            0  \n",
       "2      38295.0           34900.0            0  \n",
       "3      55564.0           24700.0            0  \n",
       "4      47159.0           47033.0            0  "
      ]
     },
     "execution_count": 7,
     "metadata": {},
     "output_type": "execute_result"
    }
   ],
   "source": [
    "train_df.head()"
   ]
  },
  {
   "cell_type": "code",
   "execution_count": 8,
   "metadata": {},
   "outputs": [
    {
     "data": {
      "text/html": [
       "<div>\n",
       "<style scoped>\n",
       "    .dataframe tbody tr th:only-of-type {\n",
       "        vertical-align: middle;\n",
       "    }\n",
       "\n",
       "    .dataframe tbody tr th {\n",
       "        vertical-align: top;\n",
       "    }\n",
       "\n",
       "    .dataframe thead th {\n",
       "        text-align: right;\n",
       "    }\n",
       "</style>\n",
       "<table border=\"1\" class=\"dataframe\">\n",
       "  <thead>\n",
       "    <tr style=\"text-align: right;\">\n",
       "      <th></th>\n",
       "      <th>member_id</th>\n",
       "      <th>loan_amnt</th>\n",
       "      <th>funded_amnt</th>\n",
       "      <th>funded_amnt_inv</th>\n",
       "      <th>term</th>\n",
       "      <th>batch_enrolled</th>\n",
       "      <th>int_rate</th>\n",
       "      <th>grade</th>\n",
       "      <th>sub_grade</th>\n",
       "      <th>emp_title</th>\n",
       "      <th>emp_length</th>\n",
       "      <th>home_ownership</th>\n",
       "      <th>annual_inc</th>\n",
       "      <th>verification_status</th>\n",
       "      <th>pymnt_plan</th>\n",
       "      <th>desc</th>\n",
       "      <th>purpose</th>\n",
       "      <th>title</th>\n",
       "      <th>zip_code</th>\n",
       "      <th>addr_state</th>\n",
       "      <th>dti</th>\n",
       "      <th>delinq_2yrs</th>\n",
       "      <th>inq_last_6mths</th>\n",
       "      <th>mths_since_last_delinq</th>\n",
       "      <th>mths_since_last_record</th>\n",
       "      <th>open_acc</th>\n",
       "      <th>pub_rec</th>\n",
       "      <th>revol_bal</th>\n",
       "      <th>revol_util</th>\n",
       "      <th>total_acc</th>\n",
       "      <th>initial_list_status</th>\n",
       "      <th>total_rec_int</th>\n",
       "      <th>total_rec_late_fee</th>\n",
       "      <th>recoveries</th>\n",
       "      <th>collection_recovery_fee</th>\n",
       "      <th>collections_12_mths_ex_med</th>\n",
       "      <th>mths_since_last_major_derog</th>\n",
       "      <th>application_type</th>\n",
       "      <th>verification_status_joint</th>\n",
       "      <th>last_week_pay</th>\n",
       "      <th>acc_now_delinq</th>\n",
       "      <th>tot_coll_amt</th>\n",
       "      <th>tot_cur_bal</th>\n",
       "      <th>total_rev_hi_lim</th>\n",
       "    </tr>\n",
       "  </thead>\n",
       "  <tbody>\n",
       "    <tr>\n",
       "      <th>0</th>\n",
       "      <td>11937648</td>\n",
       "      <td>14000</td>\n",
       "      <td>14000</td>\n",
       "      <td>14000.0</td>\n",
       "      <td>60 months</td>\n",
       "      <td>BAT4711174</td>\n",
       "      <td>16.24</td>\n",
       "      <td>C</td>\n",
       "      <td>C5</td>\n",
       "      <td>Data Analyst</td>\n",
       "      <td>4 years</td>\n",
       "      <td>RENT</td>\n",
       "      <td>73500.0</td>\n",
       "      <td>Source Verified</td>\n",
       "      <td>n</td>\n",
       "      <td>NaN</td>\n",
       "      <td>credit_card</td>\n",
       "      <td>wrap it up</td>\n",
       "      <td>450xx</td>\n",
       "      <td>OH</td>\n",
       "      <td>28.65</td>\n",
       "      <td>1.0</td>\n",
       "      <td>1.0</td>\n",
       "      <td>20.0</td>\n",
       "      <td>NaN</td>\n",
       "      <td>16.0</td>\n",
       "      <td>0.0</td>\n",
       "      <td>29828</td>\n",
       "      <td>65.3</td>\n",
       "      <td>53.0</td>\n",
       "      <td>f</td>\n",
       "      <td>3915.61</td>\n",
       "      <td>0.0</td>\n",
       "      <td>0.0</td>\n",
       "      <td>0.0</td>\n",
       "      <td>0.0</td>\n",
       "      <td>NaN</td>\n",
       "      <td>INDIVIDUAL</td>\n",
       "      <td>NaN</td>\n",
       "      <td>104th week</td>\n",
       "      <td>0.0</td>\n",
       "      <td>0.0</td>\n",
       "      <td>85230.0</td>\n",
       "      <td>45700.0</td>\n",
       "    </tr>\n",
       "    <tr>\n",
       "      <th>1</th>\n",
       "      <td>38983318</td>\n",
       "      <td>16000</td>\n",
       "      <td>16000</td>\n",
       "      <td>16000.0</td>\n",
       "      <td>60 months</td>\n",
       "      <td>BAT4318899</td>\n",
       "      <td>9.49</td>\n",
       "      <td>B</td>\n",
       "      <td>B2</td>\n",
       "      <td>Senior Database Administrator</td>\n",
       "      <td>5 years</td>\n",
       "      <td>MORTGAGE</td>\n",
       "      <td>105000.0</td>\n",
       "      <td>Source Verified</td>\n",
       "      <td>n</td>\n",
       "      <td>NaN</td>\n",
       "      <td>major_purchase</td>\n",
       "      <td>Major purchase</td>\n",
       "      <td>275xx</td>\n",
       "      <td>NC</td>\n",
       "      <td>31.19</td>\n",
       "      <td>0.0</td>\n",
       "      <td>0.0</td>\n",
       "      <td>NaN</td>\n",
       "      <td>NaN</td>\n",
       "      <td>8.0</td>\n",
       "      <td>0.0</td>\n",
       "      <td>4161</td>\n",
       "      <td>19.4</td>\n",
       "      <td>63.0</td>\n",
       "      <td>w</td>\n",
       "      <td>1495.06</td>\n",
       "      <td>0.0</td>\n",
       "      <td>0.0</td>\n",
       "      <td>0.0</td>\n",
       "      <td>0.0</td>\n",
       "      <td>NaN</td>\n",
       "      <td>INDIVIDUAL</td>\n",
       "      <td>NaN</td>\n",
       "      <td>57th week</td>\n",
       "      <td>0.0</td>\n",
       "      <td>0.0</td>\n",
       "      <td>444991.0</td>\n",
       "      <td>21400.0</td>\n",
       "    </tr>\n",
       "    <tr>\n",
       "      <th>2</th>\n",
       "      <td>27999917</td>\n",
       "      <td>11050</td>\n",
       "      <td>11050</td>\n",
       "      <td>11050.0</td>\n",
       "      <td>60 months</td>\n",
       "      <td>BAT446479</td>\n",
       "      <td>15.61</td>\n",
       "      <td>D</td>\n",
       "      <td>D1</td>\n",
       "      <td>Customer service representative</td>\n",
       "      <td>10+ years</td>\n",
       "      <td>RENT</td>\n",
       "      <td>62300.0</td>\n",
       "      <td>Not Verified</td>\n",
       "      <td>n</td>\n",
       "      <td>NaN</td>\n",
       "      <td>debt_consolidation</td>\n",
       "      <td>Debt consolidation</td>\n",
       "      <td>672xx</td>\n",
       "      <td>KS</td>\n",
       "      <td>21.73</td>\n",
       "      <td>1.0</td>\n",
       "      <td>0.0</td>\n",
       "      <td>23.0</td>\n",
       "      <td>115.0</td>\n",
       "      <td>11.0</td>\n",
       "      <td>1.0</td>\n",
       "      <td>12064</td>\n",
       "      <td>74.0</td>\n",
       "      <td>20.0</td>\n",
       "      <td>w</td>\n",
       "      <td>2096.21</td>\n",
       "      <td>0.0</td>\n",
       "      <td>0.0</td>\n",
       "      <td>0.0</td>\n",
       "      <td>0.0</td>\n",
       "      <td>26.0</td>\n",
       "      <td>INDIVIDUAL</td>\n",
       "      <td>NaN</td>\n",
       "      <td>70th week</td>\n",
       "      <td>0.0</td>\n",
       "      <td>0.0</td>\n",
       "      <td>105737.0</td>\n",
       "      <td>16300.0</td>\n",
       "    </tr>\n",
       "    <tr>\n",
       "      <th>3</th>\n",
       "      <td>61514932</td>\n",
       "      <td>35000</td>\n",
       "      <td>35000</td>\n",
       "      <td>34700.0</td>\n",
       "      <td>60 months</td>\n",
       "      <td>BAT4664105</td>\n",
       "      <td>12.69</td>\n",
       "      <td>C</td>\n",
       "      <td>C2</td>\n",
       "      <td>ACCT OFFICER</td>\n",
       "      <td>10+ years</td>\n",
       "      <td>OWN</td>\n",
       "      <td>150000.0</td>\n",
       "      <td>Source Verified</td>\n",
       "      <td>n</td>\n",
       "      <td>NaN</td>\n",
       "      <td>debt_consolidation</td>\n",
       "      <td>Debt consolidation</td>\n",
       "      <td>961xx</td>\n",
       "      <td>CA</td>\n",
       "      <td>17.27</td>\n",
       "      <td>0.0</td>\n",
       "      <td>0.0</td>\n",
       "      <td>NaN</td>\n",
       "      <td>NaN</td>\n",
       "      <td>21.0</td>\n",
       "      <td>0.0</td>\n",
       "      <td>32549</td>\n",
       "      <td>45.0</td>\n",
       "      <td>26.0</td>\n",
       "      <td>f</td>\n",
       "      <td>1756.31</td>\n",
       "      <td>0.0</td>\n",
       "      <td>0.0</td>\n",
       "      <td>0.0</td>\n",
       "      <td>0.0</td>\n",
       "      <td>NaN</td>\n",
       "      <td>INDIVIDUAL</td>\n",
       "      <td>NaN</td>\n",
       "      <td>22th week</td>\n",
       "      <td>0.0</td>\n",
       "      <td>0.0</td>\n",
       "      <td>287022.0</td>\n",
       "      <td>72400.0</td>\n",
       "    </tr>\n",
       "    <tr>\n",
       "      <th>4</th>\n",
       "      <td>59622821</td>\n",
       "      <td>6500</td>\n",
       "      <td>6500</td>\n",
       "      <td>6500.0</td>\n",
       "      <td>36 months</td>\n",
       "      <td></td>\n",
       "      <td>6.89</td>\n",
       "      <td>A</td>\n",
       "      <td>A3</td>\n",
       "      <td>Paralegal</td>\n",
       "      <td>5 years</td>\n",
       "      <td>MORTGAGE</td>\n",
       "      <td>52000.0</td>\n",
       "      <td>Not Verified</td>\n",
       "      <td>n</td>\n",
       "      <td>NaN</td>\n",
       "      <td>major_purchase</td>\n",
       "      <td>Major purchase</td>\n",
       "      <td>707xx</td>\n",
       "      <td>LA</td>\n",
       "      <td>20.19</td>\n",
       "      <td>0.0</td>\n",
       "      <td>0.0</td>\n",
       "      <td>NaN</td>\n",
       "      <td>NaN</td>\n",
       "      <td>16.0</td>\n",
       "      <td>0.0</td>\n",
       "      <td>5133</td>\n",
       "      <td>19.2</td>\n",
       "      <td>36.0</td>\n",
       "      <td>w</td>\n",
       "      <td>172.21</td>\n",
       "      <td>0.0</td>\n",
       "      <td>0.0</td>\n",
       "      <td>0.0</td>\n",
       "      <td>0.0</td>\n",
       "      <td>NaN</td>\n",
       "      <td>INDIVIDUAL</td>\n",
       "      <td>NaN</td>\n",
       "      <td>22th week</td>\n",
       "      <td>0.0</td>\n",
       "      <td>0.0</td>\n",
       "      <td>234278.0</td>\n",
       "      <td>26700.0</td>\n",
       "    </tr>\n",
       "  </tbody>\n",
       "</table>\n",
       "</div>"
      ],
      "text/plain": [
       "   member_id  loan_amnt  funded_amnt  funded_amnt_inv       term  \\\n",
       "0   11937648      14000        14000          14000.0  60 months   \n",
       "1   38983318      16000        16000          16000.0  60 months   \n",
       "2   27999917      11050        11050          11050.0  60 months   \n",
       "3   61514932      35000        35000          34700.0  60 months   \n",
       "4   59622821       6500         6500           6500.0  36 months   \n",
       "\n",
       "  batch_enrolled  int_rate grade sub_grade                        emp_title  \\\n",
       "0     BAT4711174     16.24     C        C5                     Data Analyst   \n",
       "1     BAT4318899      9.49     B        B2    Senior Database Administrator   \n",
       "2      BAT446479     15.61     D        D1  Customer service representative   \n",
       "3     BAT4664105     12.69     C        C2                     ACCT OFFICER   \n",
       "4                     6.89     A        A3                        Paralegal   \n",
       "\n",
       "  emp_length home_ownership  annual_inc verification_status pymnt_plan desc  \\\n",
       "0    4 years           RENT     73500.0     Source Verified          n  NaN   \n",
       "1    5 years       MORTGAGE    105000.0     Source Verified          n  NaN   \n",
       "2  10+ years           RENT     62300.0        Not Verified          n  NaN   \n",
       "3  10+ years            OWN    150000.0     Source Verified          n  NaN   \n",
       "4    5 years       MORTGAGE     52000.0        Not Verified          n  NaN   \n",
       "\n",
       "              purpose               title zip_code addr_state    dti  \\\n",
       "0         credit_card          wrap it up    450xx         OH  28.65   \n",
       "1      major_purchase      Major purchase    275xx         NC  31.19   \n",
       "2  debt_consolidation  Debt consolidation    672xx         KS  21.73   \n",
       "3  debt_consolidation  Debt consolidation    961xx         CA  17.27   \n",
       "4      major_purchase      Major purchase    707xx         LA  20.19   \n",
       "\n",
       "   delinq_2yrs  inq_last_6mths  mths_since_last_delinq  \\\n",
       "0          1.0             1.0                    20.0   \n",
       "1          0.0             0.0                     NaN   \n",
       "2          1.0             0.0                    23.0   \n",
       "3          0.0             0.0                     NaN   \n",
       "4          0.0             0.0                     NaN   \n",
       "\n",
       "   mths_since_last_record  open_acc  pub_rec  revol_bal  revol_util  \\\n",
       "0                     NaN      16.0      0.0      29828        65.3   \n",
       "1                     NaN       8.0      0.0       4161        19.4   \n",
       "2                   115.0      11.0      1.0      12064        74.0   \n",
       "3                     NaN      21.0      0.0      32549        45.0   \n",
       "4                     NaN      16.0      0.0       5133        19.2   \n",
       "\n",
       "   total_acc initial_list_status  total_rec_int  total_rec_late_fee  \\\n",
       "0       53.0                   f        3915.61                 0.0   \n",
       "1       63.0                   w        1495.06                 0.0   \n",
       "2       20.0                   w        2096.21                 0.0   \n",
       "3       26.0                   f        1756.31                 0.0   \n",
       "4       36.0                   w         172.21                 0.0   \n",
       "\n",
       "   recoveries  collection_recovery_fee  collections_12_mths_ex_med  \\\n",
       "0         0.0                      0.0                         0.0   \n",
       "1         0.0                      0.0                         0.0   \n",
       "2         0.0                      0.0                         0.0   \n",
       "3         0.0                      0.0                         0.0   \n",
       "4         0.0                      0.0                         0.0   \n",
       "\n",
       "   mths_since_last_major_derog application_type verification_status_joint  \\\n",
       "0                          NaN       INDIVIDUAL                       NaN   \n",
       "1                          NaN       INDIVIDUAL                       NaN   \n",
       "2                         26.0       INDIVIDUAL                       NaN   \n",
       "3                          NaN       INDIVIDUAL                       NaN   \n",
       "4                          NaN       INDIVIDUAL                       NaN   \n",
       "\n",
       "  last_week_pay  acc_now_delinq  tot_coll_amt  tot_cur_bal  total_rev_hi_lim  \n",
       "0    104th week             0.0           0.0      85230.0           45700.0  \n",
       "1     57th week             0.0           0.0     444991.0           21400.0  \n",
       "2     70th week             0.0           0.0     105737.0           16300.0  \n",
       "3     22th week             0.0           0.0     287022.0           72400.0  \n",
       "4     22th week             0.0           0.0     234278.0           26700.0  "
      ]
     },
     "execution_count": 8,
     "metadata": {},
     "output_type": "execute_result"
    }
   ],
   "source": [
    "test_df.head()"
   ]
  },
  {
   "cell_type": "markdown",
   "metadata": {},
   "source": [
    "# DATA PREPROCESSING"
   ]
  },
  {
   "cell_type": "markdown",
   "metadata": {},
   "source": [
    "### AMENDING THE CATEGORICAL COLUMNS"
   ]
  },
  {
   "cell_type": "code",
   "execution_count": 9,
   "metadata": {},
   "outputs": [
    {
     "data": {
      "text/plain": [
       "array(['26th week', '9th week', '135th week', '96th week', '113th week',\n",
       "       '117th week', '78th week', '44th week', '52th week', '95th week',\n",
       "       '48th week', '82th week', '35th week', '104th week', '17th week',\n",
       "       '13th week', 'NAth week', '31th week', '30th week', '70th week',\n",
       "       '4th week', '91th week', '65th week', '39th week', '83th week',\n",
       "       '74th week', '22th week', '61th week', '156th week', '122th week',\n",
       "       '174th week', '87th week', '139th week', '0th week', '57th week',\n",
       "       '131th week', '152th week', '43th week', '161th week', '56th week',\n",
       "       '170th week', '157th week', '109th week', '126th week',\n",
       "       '100th week', '148th week', '265th week', '165th week',\n",
       "       '261th week', '213th week', '222th week', '196th week',\n",
       "       '130th week', '144th week', '244th week', '204th week',\n",
       "       '69th week', '217th week', '143th week', '191th week', '21th week',\n",
       "       '226th week', '18th week', '108th week', '79th week', '183th week',\n",
       "       '178th week', '187th week', '252th week', '200th week',\n",
       "       '118th week', '92th week', '121th week', '209th week',\n",
       "       '239th week', '248th week', '169th week', '153th week',\n",
       "       '235th week', '256th week', '8th week', '182th week', '230th week',\n",
       "       '231th week', '257th week', '243th week', '205th week',\n",
       "       '192th week', '270th week', '218th week', '283th week',\n",
       "       '300th week', '221th week', '291th week', '278th week',\n",
       "       '274th week', '269th week', '304th week'], dtype=object)"
      ]
     },
     "execution_count": 9,
     "metadata": {},
     "output_type": "execute_result"
    }
   ],
   "source": [
    "train_df['last_week_pay'].unique()"
   ]
  },
  {
   "cell_type": "code",
   "execution_count": 10,
   "metadata": {},
   "outputs": [],
   "source": [
    "#amending the last_week_pay column\n",
    "train_df['last_week_pay'].replace(to_replace = 'th week', value = '', regex = True, inplace = True)\n",
    "test_df['last_week_pay'].replace(to_replace = 'th week', value = '', regex = True, inplace = True)\n",
    "\n",
    "train_df['last_week_pay'] = pd.to_numeric(train_df['last_week_pay'], errors = 'coerce')\n",
    "test_df['last_week_pay'] = pd.to_numeric(test_df['last_week_pay'], errors = 'coerce')"
   ]
  },
  {
   "cell_type": "code",
   "execution_count": 11,
   "metadata": {},
   "outputs": [
    {
     "data": {
      "text/plain": [
       "array([ 26.,   9., 135.,  96., 113., 117.,  78.,  44.,  52.,  95.,  48.,\n",
       "        82.,  35., 104.,  17.,  13.,  nan,  31.,  30.,  70.,   4.,  91.,\n",
       "        65.,  39.,  83.,  74.,  22.,  61., 156., 122., 174.,  87., 139.,\n",
       "         0.,  57., 131., 152.,  43., 161.,  56., 170., 157., 109., 126.,\n",
       "       100., 148., 265., 165., 261., 213., 222., 196., 130., 144., 244.,\n",
       "       204.,  69., 217., 143., 191.,  21., 226.,  18., 108.,  79., 183.,\n",
       "       178., 187., 252., 200., 118.,  92., 121., 209., 239., 248., 169.,\n",
       "       153., 235., 256.,   8., 182., 230., 231., 257., 243., 205., 192.,\n",
       "       270., 218., 283., 300., 221., 291., 278., 274., 269., 304.])"
      ]
     },
     "execution_count": 11,
     "metadata": {},
     "output_type": "execute_result"
    }
   ],
   "source": [
    "train_df['last_week_pay'].unique()"
   ]
  },
  {
   "cell_type": "code",
   "execution_count": 12,
   "metadata": {},
   "outputs": [],
   "source": [
    "#last_week_pay column contain null values, thus filling them with 0.\n",
    "train_df['last_week_pay'].fillna(0, inplace = True)\n",
    "test_df['last_week_pay'].fillna(0, inplace = True)"
   ]
  },
  {
   "cell_type": "raw",
   "metadata": {},
   "source": [
    "    "
   ]
  },
  {
   "cell_type": "code",
   "execution_count": 13,
   "metadata": {},
   "outputs": [
    {
     "data": {
      "text/plain": [
       "array(['36 months', '60 months'], dtype=object)"
      ]
     },
     "execution_count": 13,
     "metadata": {},
     "output_type": "execute_result"
    }
   ],
   "source": [
    "train_df['term'].unique()"
   ]
  },
  {
   "cell_type": "code",
   "execution_count": 14,
   "metadata": {},
   "outputs": [],
   "source": [
    "#amending the term column\n",
    "train_df['term'].replace(to_replace = 'months', value = '', regex = True, inplace = True)\n",
    "test_df['term'].replace(to_replace = 'months', value = '', regex = True, inplace = True)\n",
    "\n",
    "train_df['term'] = pd.to_numeric(train_df['term'], errors = 'coerce')\n",
    "test_df['term'] = pd.to_numeric(test_df['term'], errors = 'coerce')"
   ]
  },
  {
   "cell_type": "code",
   "execution_count": 15,
   "metadata": {},
   "outputs": [
    {
     "data": {
      "text/plain": [
       "array([36, 60], dtype=int64)"
      ]
     },
     "execution_count": 15,
     "metadata": {},
     "output_type": "execute_result"
    }
   ],
   "source": [
    "train_df['term'].unique()"
   ]
  },
  {
   "cell_type": "raw",
   "metadata": {},
   "source": []
  },
  {
   "cell_type": "code",
   "execution_count": 16,
   "metadata": {},
   "outputs": [
    {
     "data": {
      "text/plain": [
       "array(['OWN', 'MORTGAGE', 'RENT', 'OTHER', 'NONE', 'ANY'], dtype=object)"
      ]
     },
     "execution_count": 16,
     "metadata": {},
     "output_type": "execute_result"
    }
   ],
   "source": [
    "train_df['home_ownership'].unique()"
   ]
  },
  {
   "cell_type": "code",
   "execution_count": 17,
   "metadata": {},
   "outputs": [],
   "source": [
    "#converting them into 2 columns\n",
    "train_df['rented_home'] = train_df['home_ownership'].apply(lambda x : 1 if ((x == 'MORTGAGE') | (x == 'RENT') ) else 0)\n",
    "train_df['own_home'] = train_df['home_ownership'].apply(lambda x : 1 if (x == 'OWN') else 0) \n",
    "train_df.drop(['home_ownership'], axis =1 , inplace = True)\n",
    "\n",
    "test_df['own_home'] = test_df['home_ownership'].apply(lambda x : 1 if (x == 'OWN') else 0) \n",
    "test_df['rented_home'] = test_df['home_ownership'].apply(lambda x : 1 if ((x == 'MORTGAGE') | (x == 'RENT') ) else 0)\n",
    "test_df.drop(['home_ownership'], axis =1 , inplace = True)"
   ]
  },
  {
   "cell_type": "raw",
   "metadata": {},
   "source": []
  },
  {
   "cell_type": "code",
   "execution_count": 18,
   "metadata": {},
   "outputs": [
    {
     "data": {
      "text/plain": [
       "array(['9 years', '< 1 year', '2 years', '10+ years', '5 years',\n",
       "       '8 years', '7 years', '4 years', nan, '1 year', '3 years',\n",
       "       '6 years'], dtype=object)"
      ]
     },
     "execution_count": 18,
     "metadata": {},
     "output_type": "execute_result"
    }
   ],
   "source": [
    "train_df['emp_length'].unique()"
   ]
  },
  {
   "cell_type": "code",
   "execution_count": 19,
   "metadata": {},
   "outputs": [],
   "source": [
    "#amending the emp_length column\n",
    "train_df['emp_length'].replace(to_replace = 'years', value = '', regex = True, inplace = True)\n",
    "train_df['emp_length'].replace(to_replace = '< 1 year', value = '1', regex = True, inplace = True)\n",
    "train_df['emp_length'].replace(to_replace = '\\+', value = '', regex = True, inplace = True)\n",
    "train_df['emp_length'].replace(to_replace = '1 year' , value = '1', regex = True, inplace = True)\n",
    "train_df['emp_length'] = pd.to_numeric(train_df['emp_length'], errors = 'coerce')\n",
    "\n",
    "test_df['emp_length'].replace(to_replace = 'years', value = '', regex = True, inplace = True)\n",
    "test_df['emp_length'].replace(to_replace = '< 1 year', value = '1', regex = True, inplace = True)\n",
    "test_df['emp_length'].replace(to_replace = '\\+' , value = '', regex = True, inplace = True)\n",
    "test_df['emp_length'].replace(to_replace = '1 year' , value = '1', regex = True, inplace = True)\n",
    "test_df['emp_length'] = pd.to_numeric(test_df['emp_length'], errors = 'coerce')"
   ]
  },
  {
   "cell_type": "code",
   "execution_count": 20,
   "metadata": {},
   "outputs": [
    {
     "data": {
      "text/plain": [
       "array([ 9.,  1.,  2., 10.,  5.,  8.,  7.,  4., nan,  3.,  6.])"
      ]
     },
     "execution_count": 20,
     "metadata": {},
     "output_type": "execute_result"
    }
   ],
   "source": [
    "train_df['emp_length'].unique()"
   ]
  },
  {
   "cell_type": "code",
   "execution_count": 21,
   "metadata": {},
   "outputs": [],
   "source": [
    "#since, emp_length contains nan values, converting them to 0.\n",
    "train_df['emp_length'].fillna(0, inplace = True)\n",
    "test_df['emp_length'].fillna(0, inplace = True)"
   ]
  },
  {
   "cell_type": "code",
   "execution_count": 22,
   "metadata": {},
   "outputs": [
    {
     "data": {
      "text/plain": [
       "array([ 9.,  1.,  2., 10.,  5.,  8.,  7.,  4.,  0.,  3.,  6.])"
      ]
     },
     "execution_count": 22,
     "metadata": {},
     "output_type": "execute_result"
    }
   ],
   "source": [
    "train_df['emp_length'].unique()"
   ]
  },
  {
   "cell_type": "raw",
   "metadata": {},
   "source": []
  },
  {
   "cell_type": "code",
   "execution_count": 23,
   "metadata": {},
   "outputs": [],
   "source": [
    "#since, zip code and add_state denote the same thing we can drop either of them.\n",
    "#let's drop addr_state and amend zip_code column"
   ]
  },
  {
   "cell_type": "code",
   "execution_count": 24,
   "metadata": {},
   "outputs": [],
   "source": [
    "train_df.drop(['addr_state'], axis = 1, inplace = True)\n",
    "train_df['zip_code'].replace(to_replace = 'xx', value = '', regex = True, inplace = True)\n",
    "train_df['zip_code'] = pd.to_numeric(train_df['zip_code'], errors = 'coerce')\n",
    "\n",
    "test_df.drop(['addr_state'], axis = 1, inplace = True)\n",
    "test_df['zip_code'].replace(to_replace = 'xx', value = '', regex = True, inplace = True)\n",
    "test_df['zip_code'] = pd.to_numeric(test_df['zip_code'], errors = 'coerce')"
   ]
  },
  {
   "cell_type": "markdown",
   "metadata": {},
   "source": [
    "### DEALING WITH MISSING VALUES."
   ]
  },
  {
   "cell_type": "code",
   "execution_count": 25,
   "metadata": {},
   "outputs": [
    {
     "data": {
      "text/plain": [
       "member_id                      0.000000\n",
       "loan_amnt                      0.000000\n",
       "funded_amnt                    0.000000\n",
       "funded_amnt_inv                0.000000\n",
       "term                           0.000000\n",
       "batch_enrolled                 0.159926\n",
       "int_rate                       0.000000\n",
       "grade                          0.000000\n",
       "sub_grade                      0.000000\n",
       "emp_title                      0.057910\n",
       "emp_length                     0.000000\n",
       "annual_inc                     0.000006\n",
       "verification_status            0.000000\n",
       "pymnt_plan                     0.000000\n",
       "desc                           0.858011\n",
       "purpose                        0.000000\n",
       "title                          0.000169\n",
       "zip_code                       0.000000\n",
       "dti                            0.000000\n",
       "delinq_2yrs                    0.000030\n",
       "inq_last_6mths                 0.000030\n",
       "mths_since_last_delinq         0.511908\n",
       "mths_since_last_record         0.845758\n",
       "open_acc                       0.000030\n",
       "pub_rec                        0.000030\n",
       "revol_bal                      0.000000\n",
       "revol_util                     0.000539\n",
       "total_acc                      0.000030\n",
       "initial_list_status            0.000000\n",
       "total_rec_int                  0.000000\n",
       "total_rec_late_fee             0.000000\n",
       "recoveries                     0.000000\n",
       "collection_recovery_fee        0.000000\n",
       "collections_12_mths_ex_med     0.000178\n",
       "mths_since_last_major_derog    0.750239\n",
       "application_type               0.000000\n",
       "verification_status_joint      0.999427\n",
       "last_week_pay                  0.000000\n",
       "acc_now_delinq                 0.000030\n",
       "tot_coll_amt                   0.078891\n",
       "tot_cur_bal                    0.078891\n",
       "total_rev_hi_lim               0.078891\n",
       "loan_status                    0.000000\n",
       "rented_home                    0.000000\n",
       "own_home                       0.000000\n",
       "dtype: float64"
      ]
     },
     "execution_count": 25,
     "metadata": {},
     "output_type": "execute_result"
    }
   ],
   "source": [
    "missing_pc = train_df.isnull().mean()\n",
    "missing_pc"
   ]
  },
  {
   "cell_type": "markdown",
   "metadata": {},
   "source": [
    "DROPPING THE COLUMNS HAVING HIGH NULL VALUES SINCE THEY'LL NOT BE A SIGNIFICANT FACTOR WHILE DECIDING THE TARGET"
   ]
  },
  {
   "cell_type": "code",
   "execution_count": 26,
   "metadata": {},
   "outputs": [
    {
     "data": {
      "text/plain": [
       "desc                           0.858011\n",
       "mths_since_last_delinq         0.511908\n",
       "mths_since_last_record         0.845758\n",
       "mths_since_last_major_derog    0.750239\n",
       "verification_status_joint      0.999427\n",
       "dtype: float64"
      ]
     },
     "execution_count": 26,
     "metadata": {},
     "output_type": "execute_result"
    }
   ],
   "source": [
    "over_threshold_cols = missing_pc[missing_pc >= 0.40]\n",
    "over_threshold_cols"
   ]
  },
  {
   "cell_type": "code",
   "execution_count": 27,
   "metadata": {},
   "outputs": [],
   "source": [
    "train_df.drop(over_threshold_cols.index, axis = 1, inplace = True)\n",
    "test_df.drop(over_threshold_cols.index, axis = 1, inplace = True)"
   ]
  },
  {
   "cell_type": "code",
   "execution_count": 28,
   "metadata": {},
   "outputs": [
    {
     "data": {
      "text/plain": [
       "batch_enrolled                0.159926\n",
       "emp_title                     0.057910\n",
       "annual_inc                    0.000006\n",
       "title                         0.000169\n",
       "delinq_2yrs                   0.000030\n",
       "inq_last_6mths                0.000030\n",
       "open_acc                      0.000030\n",
       "pub_rec                       0.000030\n",
       "revol_util                    0.000539\n",
       "total_acc                     0.000030\n",
       "collections_12_mths_ex_med    0.000178\n",
       "acc_now_delinq                0.000030\n",
       "tot_coll_amt                  0.078891\n",
       "tot_cur_bal                   0.078891\n",
       "total_rev_hi_lim              0.078891\n",
       "dtype: float64"
      ]
     },
     "execution_count": 28,
     "metadata": {},
     "output_type": "execute_result"
    }
   ],
   "source": [
    "missing_pc2 = train_df.isnull().mean()\n",
    "nul_cols = missing_pc2[missing_pc2 != 0]\n",
    "nul_cols"
   ]
  },
  {
   "cell_type": "code",
   "execution_count": 29,
   "metadata": {},
   "outputs": [
    {
     "data": {
      "text/plain": [
       "Index(['batch_enrolled', 'grade', 'sub_grade', 'emp_title',\n",
       "       'verification_status', 'pymnt_plan', 'purpose', 'title',\n",
       "       'initial_list_status', 'application_type'],\n",
       "      dtype='object')"
      ]
     },
     "execution_count": 29,
     "metadata": {},
     "output_type": "execute_result"
    }
   ],
   "source": [
    "cat_cols = train_df.select_dtypes(include = ['object']).columns\n",
    "cat_cols"
   ]
  },
  {
   "cell_type": "code",
   "execution_count": 30,
   "metadata": {},
   "outputs": [
    {
     "data": {
      "text/plain": [
       "Index(['member_id', 'loan_amnt', 'funded_amnt', 'funded_amnt_inv', 'term',\n",
       "       'int_rate', 'emp_length', 'annual_inc', 'zip_code', 'dti',\n",
       "       'delinq_2yrs', 'inq_last_6mths', 'open_acc', 'pub_rec', 'revol_bal',\n",
       "       'revol_util', 'total_acc', 'total_rec_int', 'total_rec_late_fee',\n",
       "       'recoveries', 'collection_recovery_fee', 'collections_12_mths_ex_med',\n",
       "       'last_week_pay', 'acc_now_delinq', 'tot_coll_amt', 'tot_cur_bal',\n",
       "       'total_rev_hi_lim', 'rented_home', 'own_home'],\n",
       "      dtype='object')"
      ]
     },
     "execution_count": 30,
     "metadata": {},
     "output_type": "execute_result"
    }
   ],
   "source": [
    "num_cols = train_df.select_dtypes(exclude = ['object']).drop(['loan_status'], axis = 1).columns\n",
    "num_cols"
   ]
  },
  {
   "cell_type": "markdown",
   "metadata": {},
   "source": [
    "### IMPUTING MISSING NUMERICAL VALUES WITH MEDIAN or 0."
   ]
  },
  {
   "cell_type": "code",
   "execution_count": 31,
   "metadata": {},
   "outputs": [],
   "source": [
    "for i in num_cols :\n",
    "    train_df[i].fillna(0, inplace = True)"
   ]
  },
  {
   "cell_type": "code",
   "execution_count": 32,
   "metadata": {},
   "outputs": [],
   "source": [
    "for i in num_cols :\n",
    "    test_df[i].fillna(0, inplace = True)"
   ]
  },
  {
   "cell_type": "markdown",
   "metadata": {},
   "source": [
    "### SUBSTITUTING MISSING CATEGORICAL VALUES."
   ]
  },
  {
   "cell_type": "code",
   "execution_count": 33,
   "metadata": {},
   "outputs": [
    {
     "data": {
      "text/plain": [
       "' '"
      ]
     },
     "execution_count": 33,
     "metadata": {},
     "output_type": "execute_result"
    }
   ],
   "source": [
    "train_df['batch_enrolled'].mode()[0]"
   ]
  },
  {
   "cell_type": "code",
   "execution_count": 34,
   "metadata": {},
   "outputs": [],
   "source": [
    "#since, the most frequent value for batch_enrolled column is null, we can simply drop this column."
   ]
  },
  {
   "cell_type": "code",
   "execution_count": 35,
   "metadata": {},
   "outputs": [],
   "source": [
    "train_df.drop(['batch_enrolled'], axis = 1, inplace = True)\n",
    "test_df.drop(['batch_enrolled'], axis = 1, inplace = True)"
   ]
  },
  {
   "cell_type": "markdown",
   "metadata": {},
   "source": [
    "##### let's check emp_title column"
   ]
  },
  {
   "cell_type": "code",
   "execution_count": 36,
   "metadata": {},
   "outputs": [
    {
     "data": {
      "text/plain": [
       "'Teacher'"
      ]
     },
     "execution_count": 36,
     "metadata": {},
     "output_type": "execute_result"
    }
   ],
   "source": [
    "train_df['emp_title'].mode()[0]"
   ]
  },
  {
   "cell_type": "code",
   "execution_count": 37,
   "metadata": {},
   "outputs": [
    {
     "data": {
      "text/plain": [
       "array(['clerk', 'Human Resources Specialist', 'Driver', ...,\n",
       "       'Staffing assistant', 'Champion Mortgage', 'Health Care Analyst'],\n",
       "      dtype=object)"
      ]
     },
     "execution_count": 37,
     "metadata": {},
     "output_type": "execute_result"
    }
   ],
   "source": [
    "train_df['emp_title'].unique()"
   ]
  },
  {
   "cell_type": "code",
   "execution_count": 38,
   "metadata": {},
   "outputs": [],
   "source": [
    "#here, ..... clearly implies that this column contains various type of titles. Thus, we can simply drop off this column or can take topmost 10 professions.\n",
    "#let's take topmost 10 professions and perform label encoding."
   ]
  },
  {
   "cell_type": "markdown",
   "metadata": {},
   "source": [
    "##### LABEL ENCODING OF TOP 10 EMPLOYEE TITLES. (TRAIN DATASET)"
   ]
  },
  {
   "cell_type": "code",
   "execution_count": 39,
   "metadata": {},
   "outputs": [],
   "source": [
    "df_new_train = pd.DataFrame(train_df, columns = {'emp_title'})\n",
    "emp_title_group = train_df.groupby('emp_title')['emp_title'].count()\n",
    "emp_title_sorted = emp_title_group.sort_values(ascending = False) "
   ]
  },
  {
   "cell_type": "code",
   "execution_count": 40,
   "metadata": {},
   "outputs": [],
   "source": [
    "emp_title_top_10 = emp_title_sorted[0:10]\n",
    "emp_title_top_10 = df_new_train['emp_title'].value_counts().sort_values(ascending = False).head(10).index\n",
    "emp_title_top_10 = list(emp_title_top_10)\n"
   ]
  },
  {
   "cell_type": "code",
   "execution_count": 41,
   "metadata": {},
   "outputs": [
    {
     "data": {
      "text/html": [
       "<div>\n",
       "<style scoped>\n",
       "    .dataframe tbody tr th:only-of-type {\n",
       "        vertical-align: middle;\n",
       "    }\n",
       "\n",
       "    .dataframe tbody tr th {\n",
       "        vertical-align: top;\n",
       "    }\n",
       "\n",
       "    .dataframe thead th {\n",
       "        text-align: right;\n",
       "    }\n",
       "</style>\n",
       "<table border=\"1\" class=\"dataframe\">\n",
       "  <thead>\n",
       "    <tr style=\"text-align: right;\">\n",
       "      <th></th>\n",
       "      <th>emp_title_title</th>\n",
       "      <th>Teacher_title</th>\n",
       "      <th>Manager_title</th>\n",
       "      <th>Registered Nurse_title</th>\n",
       "      <th>Owner_title</th>\n",
       "      <th>RN_title</th>\n",
       "      <th>Supervisor_title</th>\n",
       "      <th>Sales_title</th>\n",
       "      <th>Project Manager_title</th>\n",
       "      <th>Office Manager_title</th>\n",
       "      <th>Driver_title</th>\n",
       "    </tr>\n",
       "  </thead>\n",
       "  <tbody>\n",
       "    <tr>\n",
       "      <th>0</th>\n",
       "      <td>clerk</td>\n",
       "      <td>0</td>\n",
       "      <td>0</td>\n",
       "      <td>0</td>\n",
       "      <td>0</td>\n",
       "      <td>0</td>\n",
       "      <td>0</td>\n",
       "      <td>0</td>\n",
       "      <td>0</td>\n",
       "      <td>0</td>\n",
       "      <td>0</td>\n",
       "    </tr>\n",
       "    <tr>\n",
       "      <th>1</th>\n",
       "      <td>Human Resources Specialist</td>\n",
       "      <td>0</td>\n",
       "      <td>0</td>\n",
       "      <td>0</td>\n",
       "      <td>0</td>\n",
       "      <td>0</td>\n",
       "      <td>0</td>\n",
       "      <td>0</td>\n",
       "      <td>0</td>\n",
       "      <td>0</td>\n",
       "      <td>0</td>\n",
       "    </tr>\n",
       "    <tr>\n",
       "      <th>2</th>\n",
       "      <td>Driver</td>\n",
       "      <td>0</td>\n",
       "      <td>0</td>\n",
       "      <td>0</td>\n",
       "      <td>0</td>\n",
       "      <td>0</td>\n",
       "      <td>0</td>\n",
       "      <td>0</td>\n",
       "      <td>0</td>\n",
       "      <td>0</td>\n",
       "      <td>1</td>\n",
       "    </tr>\n",
       "    <tr>\n",
       "      <th>3</th>\n",
       "      <td>Us office of Personnel Management</td>\n",
       "      <td>0</td>\n",
       "      <td>0</td>\n",
       "      <td>0</td>\n",
       "      <td>0</td>\n",
       "      <td>0</td>\n",
       "      <td>0</td>\n",
       "      <td>0</td>\n",
       "      <td>0</td>\n",
       "      <td>0</td>\n",
       "      <td>0</td>\n",
       "    </tr>\n",
       "    <tr>\n",
       "      <th>4</th>\n",
       "      <td>LAUSD-HOLLYWOOD HIGH SCHOOL</td>\n",
       "      <td>0</td>\n",
       "      <td>0</td>\n",
       "      <td>0</td>\n",
       "      <td>0</td>\n",
       "      <td>0</td>\n",
       "      <td>0</td>\n",
       "      <td>0</td>\n",
       "      <td>0</td>\n",
       "      <td>0</td>\n",
       "      <td>0</td>\n",
       "    </tr>\n",
       "  </tbody>\n",
       "</table>\n",
       "</div>"
      ],
      "text/plain": [
       "                     emp_title_title  Teacher_title  Manager_title  \\\n",
       "0                              clerk              0              0   \n",
       "1         Human Resources Specialist              0              0   \n",
       "2                             Driver              0              0   \n",
       "3  Us office of Personnel Management              0              0   \n",
       "4        LAUSD-HOLLYWOOD HIGH SCHOOL              0              0   \n",
       "\n",
       "   Registered Nurse_title  Owner_title  RN_title  Supervisor_title  \\\n",
       "0                       0            0         0                 0   \n",
       "1                       0            0         0                 0   \n",
       "2                       0            0         0                 0   \n",
       "3                       0            0         0                 0   \n",
       "4                       0            0         0                 0   \n",
       "\n",
       "   Sales_title  Project Manager_title  Office Manager_title  Driver_title  \n",
       "0            0                      0                     0             0  \n",
       "1            0                      0                     0             0  \n",
       "2            0                      0                     0             1  \n",
       "3            0                      0                     0             0  \n",
       "4            0                      0                     0             0  "
      ]
     },
     "execution_count": 41,
     "metadata": {},
     "output_type": "execute_result"
    }
   ],
   "source": [
    "for categories in emp_title_top_10:\n",
    "    df_new_train[categories] = np.where(df_new_train['emp_title'] == categories,1,0)\n",
    "df_new_train1 = df_new_train.add_suffix('_title')\n",
    "df_new_train1.head()"
   ]
  },
  {
   "cell_type": "code",
   "execution_count": 42,
   "metadata": {},
   "outputs": [],
   "source": [
    "df_new_train1.drop(['emp_title_title'], axis = 1, inplace = True)"
   ]
  },
  {
   "cell_type": "code",
   "execution_count": 43,
   "metadata": {},
   "outputs": [],
   "source": [
    "train_df_1 = pd.concat([train_df, df_new_train1], axis = 1)"
   ]
  },
  {
   "cell_type": "code",
   "execution_count": 44,
   "metadata": {},
   "outputs": [],
   "source": [
    "train_df_1.drop(['emp_title'], axis =1 , inplace = True)"
   ]
  },
  {
   "cell_type": "markdown",
   "metadata": {},
   "source": [
    "##### LABEL ENCODING OF TOP 10 EMPLOYEE TITLES. (TRAIN DATASET)"
   ]
  },
  {
   "cell_type": "code",
   "execution_count": 45,
   "metadata": {},
   "outputs": [
    {
     "data": {
      "text/plain": [
       "emp_title\n",
       "Teacher                                    5527\n",
       "Manager                                    4716\n",
       "Registered Nurse                           2304\n",
       "RN                                         2236\n",
       "Owner                                      2207\n",
       "                                           ... \n",
       "Rosewood hotels and resorts                   1\n",
       "Rosina Food Products                          1\n",
       "Rosman Adjustment Corp                        1\n",
       "Ross                                          1\n",
       " Appellate Chief, Assistant US Attorney       1\n",
       "Name: emp_title, Length: 135102, dtype: int64"
      ]
     },
     "execution_count": 45,
     "metadata": {},
     "output_type": "execute_result"
    }
   ],
   "source": [
    "df_new_test = pd.DataFrame(test_df, columns = {'emp_title'})\n",
    "emp_title_group = test_df.groupby('emp_title')['emp_title'].count()\n",
    "emp_title_sorted = emp_title_group.sort_values(ascending = False) \n",
    "emp_title_sorted"
   ]
  },
  {
   "cell_type": "code",
   "execution_count": 46,
   "metadata": {},
   "outputs": [
    {
     "data": {
      "text/plain": [
       "['Teacher',\n",
       " 'Manager',\n",
       " 'Registered Nurse',\n",
       " 'RN',\n",
       " 'Owner',\n",
       " 'Supervisor',\n",
       " 'Sales',\n",
       " 'Project Manager',\n",
       " 'Driver',\n",
       " 'Office Manager']"
      ]
     },
     "execution_count": 46,
     "metadata": {},
     "output_type": "execute_result"
    }
   ],
   "source": [
    "emp_title_top_10 = emp_title_sorted[0:10]\n",
    "emp_title_top_10 = df_new_test['emp_title'].value_counts().sort_values(ascending = False).head(10).index\n",
    "emp_title_top_10 = list(emp_title_top_10)\n",
    "emp_title_top_10"
   ]
  },
  {
   "cell_type": "code",
   "execution_count": 47,
   "metadata": {},
   "outputs": [
    {
     "data": {
      "text/html": [
       "<div>\n",
       "<style scoped>\n",
       "    .dataframe tbody tr th:only-of-type {\n",
       "        vertical-align: middle;\n",
       "    }\n",
       "\n",
       "    .dataframe tbody tr th {\n",
       "        vertical-align: top;\n",
       "    }\n",
       "\n",
       "    .dataframe thead th {\n",
       "        text-align: right;\n",
       "    }\n",
       "</style>\n",
       "<table border=\"1\" class=\"dataframe\">\n",
       "  <thead>\n",
       "    <tr style=\"text-align: right;\">\n",
       "      <th></th>\n",
       "      <th>emp_title_title</th>\n",
       "      <th>Teacher_title</th>\n",
       "      <th>Manager_title</th>\n",
       "      <th>Registered Nurse_title</th>\n",
       "      <th>RN_title</th>\n",
       "      <th>Owner_title</th>\n",
       "      <th>Supervisor_title</th>\n",
       "      <th>Sales_title</th>\n",
       "      <th>Project Manager_title</th>\n",
       "      <th>Driver_title</th>\n",
       "      <th>Office Manager_title</th>\n",
       "    </tr>\n",
       "  </thead>\n",
       "  <tbody>\n",
       "    <tr>\n",
       "      <th>0</th>\n",
       "      <td>Data Analyst</td>\n",
       "      <td>0</td>\n",
       "      <td>0</td>\n",
       "      <td>0</td>\n",
       "      <td>0</td>\n",
       "      <td>0</td>\n",
       "      <td>0</td>\n",
       "      <td>0</td>\n",
       "      <td>0</td>\n",
       "      <td>0</td>\n",
       "      <td>0</td>\n",
       "    </tr>\n",
       "    <tr>\n",
       "      <th>1</th>\n",
       "      <td>Senior Database Administrator</td>\n",
       "      <td>0</td>\n",
       "      <td>0</td>\n",
       "      <td>0</td>\n",
       "      <td>0</td>\n",
       "      <td>0</td>\n",
       "      <td>0</td>\n",
       "      <td>0</td>\n",
       "      <td>0</td>\n",
       "      <td>0</td>\n",
       "      <td>0</td>\n",
       "    </tr>\n",
       "    <tr>\n",
       "      <th>2</th>\n",
       "      <td>Customer service representative</td>\n",
       "      <td>0</td>\n",
       "      <td>0</td>\n",
       "      <td>0</td>\n",
       "      <td>0</td>\n",
       "      <td>0</td>\n",
       "      <td>0</td>\n",
       "      <td>0</td>\n",
       "      <td>0</td>\n",
       "      <td>0</td>\n",
       "      <td>0</td>\n",
       "    </tr>\n",
       "    <tr>\n",
       "      <th>3</th>\n",
       "      <td>ACCT OFFICER</td>\n",
       "      <td>0</td>\n",
       "      <td>0</td>\n",
       "      <td>0</td>\n",
       "      <td>0</td>\n",
       "      <td>0</td>\n",
       "      <td>0</td>\n",
       "      <td>0</td>\n",
       "      <td>0</td>\n",
       "      <td>0</td>\n",
       "      <td>0</td>\n",
       "    </tr>\n",
       "    <tr>\n",
       "      <th>4</th>\n",
       "      <td>Paralegal</td>\n",
       "      <td>0</td>\n",
       "      <td>0</td>\n",
       "      <td>0</td>\n",
       "      <td>0</td>\n",
       "      <td>0</td>\n",
       "      <td>0</td>\n",
       "      <td>0</td>\n",
       "      <td>0</td>\n",
       "      <td>0</td>\n",
       "      <td>0</td>\n",
       "    </tr>\n",
       "  </tbody>\n",
       "</table>\n",
       "</div>"
      ],
      "text/plain": [
       "                   emp_title_title  Teacher_title  Manager_title  \\\n",
       "0                     Data Analyst              0              0   \n",
       "1    Senior Database Administrator              0              0   \n",
       "2  Customer service representative              0              0   \n",
       "3                     ACCT OFFICER              0              0   \n",
       "4                        Paralegal              0              0   \n",
       "\n",
       "   Registered Nurse_title  RN_title  Owner_title  Supervisor_title  \\\n",
       "0                       0         0            0                 0   \n",
       "1                       0         0            0                 0   \n",
       "2                       0         0            0                 0   \n",
       "3                       0         0            0                 0   \n",
       "4                       0         0            0                 0   \n",
       "\n",
       "   Sales_title  Project Manager_title  Driver_title  Office Manager_title  \n",
       "0            0                      0             0                     0  \n",
       "1            0                      0             0                     0  \n",
       "2            0                      0             0                     0  \n",
       "3            0                      0             0                     0  \n",
       "4            0                      0             0                     0  "
      ]
     },
     "execution_count": 47,
     "metadata": {},
     "output_type": "execute_result"
    }
   ],
   "source": [
    "for categories in emp_title_top_10:\n",
    "    df_new_test[categories] = np.where(df_new_test['emp_title'] == categories,1,0)\n",
    "df_new_test1 = df_new_test.add_suffix('_title')\n",
    "df_new_test1.head()"
   ]
  },
  {
   "cell_type": "code",
   "execution_count": 48,
   "metadata": {},
   "outputs": [],
   "source": [
    "df_new_test1.drop(['emp_title_title'], axis = 1, inplace = True)"
   ]
  },
  {
   "cell_type": "code",
   "execution_count": 49,
   "metadata": {},
   "outputs": [],
   "source": [
    "test_df_1 = pd.concat([test_df, df_new_test1], axis = 1)"
   ]
  },
  {
   "cell_type": "code",
   "execution_count": 50,
   "metadata": {},
   "outputs": [],
   "source": [
    "test_df_1.drop(['emp_title'], axis =1 , inplace = True)"
   ]
  },
  {
   "cell_type": "code",
   "execution_count": null,
   "metadata": {},
   "outputs": [],
   "source": []
  },
  {
   "cell_type": "markdown",
   "metadata": {},
   "source": [
    "##### let's check title column"
   ]
  },
  {
   "cell_type": "code",
   "execution_count": 51,
   "metadata": {},
   "outputs": [
    {
     "data": {
      "text/plain": [
       "'Debt consolidation'"
      ]
     },
     "execution_count": 51,
     "metadata": {},
     "output_type": "execute_result"
    }
   ],
   "source": [
    "train_df['title'].mode()[0]"
   ]
  },
  {
   "cell_type": "code",
   "execution_count": 52,
   "metadata": {},
   "outputs": [
    {
     "data": {
      "text/plain": [
       "array(['Debt consolidation', 'Home improvement', 'refi', ...,\n",
       "       'Relieve Stress', 'Great Credit', 'Loan for Deck'], dtype=object)"
      ]
     },
     "execution_count": 52,
     "metadata": {},
     "output_type": "execute_result"
    }
   ],
   "source": [
    "train_df['title'].unique()"
   ]
  },
  {
   "cell_type": "code",
   "execution_count": 53,
   "metadata": {},
   "outputs": [],
   "source": [
    "#here, ..... clearly implies that this column contains various type of titles. Thus, we can simply drop off this column or can take topmost 10 professions.\n",
    "#let's take topmost 10 professions and perform label encoding."
   ]
  },
  {
   "cell_type": "markdown",
   "metadata": {},
   "source": [
    "##### Let's take topmost 10 professions and perform label encoding.\n",
    "##### LABEL ENCODING OF TOP 10 EMPLOYEE TITLES. (TRAIN DATASET)"
   ]
  },
  {
   "cell_type": "code",
   "execution_count": 54,
   "metadata": {},
   "outputs": [
    {
     "data": {
      "text/plain": [
       "title\n",
       "Debt consolidation         248967\n",
       "Credit card refinancing     98582\n",
       "Home improvement            24057\n",
       "Other                       19053\n",
       "Debt Consolidation           9932\n",
       "                            ...  \n",
       "Papa                            1\n",
       "PapaGrama                       1\n",
       "PappaK                          1\n",
       "Parachute                       1\n",
       "zxcvb                           1\n",
       "Name: title, Length: 39693, dtype: int64"
      ]
     },
     "execution_count": 54,
     "metadata": {},
     "output_type": "execute_result"
    }
   ],
   "source": [
    "df_new_train = pd.DataFrame(train_df_1, columns = {'title'})\n",
    "title_group = train_df_1.groupby('title')['title'].count()\n",
    "title_sorted = title_group.sort_values(ascending = False) \n",
    "title_sorted"
   ]
  },
  {
   "cell_type": "code",
   "execution_count": 55,
   "metadata": {},
   "outputs": [
    {
     "data": {
      "text/plain": [
       "['Debt consolidation',\n",
       " 'Credit card refinancing',\n",
       " 'Home improvement',\n",
       " 'Other',\n",
       " 'Debt Consolidation',\n",
       " 'Major purchase',\n",
       " 'Medical expenses',\n",
       " 'Business',\n",
       " 'Consolidation',\n",
       " 'Car financing']"
      ]
     },
     "execution_count": 55,
     "metadata": {},
     "output_type": "execute_result"
    }
   ],
   "source": [
    "title_top_10 = title_sorted[0:10]\n",
    "title_top_10 = df_new_train['title'].value_counts().sort_values(ascending = False).head(10).index\n",
    "title_top_10 = list(title_top_10)\n",
    "title_top_10"
   ]
  },
  {
   "cell_type": "code",
   "execution_count": 56,
   "metadata": {},
   "outputs": [
    {
     "data": {
      "text/html": [
       "<div>\n",
       "<style scoped>\n",
       "    .dataframe tbody tr th:only-of-type {\n",
       "        vertical-align: middle;\n",
       "    }\n",
       "\n",
       "    .dataframe tbody tr th {\n",
       "        vertical-align: top;\n",
       "    }\n",
       "\n",
       "    .dataframe thead th {\n",
       "        text-align: right;\n",
       "    }\n",
       "</style>\n",
       "<table border=\"1\" class=\"dataframe\">\n",
       "  <thead>\n",
       "    <tr style=\"text-align: right;\">\n",
       "      <th></th>\n",
       "      <th>title_title</th>\n",
       "      <th>Debt consolidation_title</th>\n",
       "      <th>Credit card refinancing_title</th>\n",
       "      <th>Home improvement_title</th>\n",
       "      <th>Other_title</th>\n",
       "      <th>Debt Consolidation_title</th>\n",
       "      <th>Major purchase_title</th>\n",
       "      <th>Medical expenses_title</th>\n",
       "      <th>Business_title</th>\n",
       "      <th>Consolidation_title</th>\n",
       "      <th>Car financing_title</th>\n",
       "    </tr>\n",
       "  </thead>\n",
       "  <tbody>\n",
       "    <tr>\n",
       "      <th>0</th>\n",
       "      <td>Debt consolidation</td>\n",
       "      <td>1</td>\n",
       "      <td>0</td>\n",
       "      <td>0</td>\n",
       "      <td>0</td>\n",
       "      <td>0</td>\n",
       "      <td>0</td>\n",
       "      <td>0</td>\n",
       "      <td>0</td>\n",
       "      <td>0</td>\n",
       "      <td>0</td>\n",
       "    </tr>\n",
       "    <tr>\n",
       "      <th>1</th>\n",
       "      <td>Home improvement</td>\n",
       "      <td>0</td>\n",
       "      <td>0</td>\n",
       "      <td>1</td>\n",
       "      <td>0</td>\n",
       "      <td>0</td>\n",
       "      <td>0</td>\n",
       "      <td>0</td>\n",
       "      <td>0</td>\n",
       "      <td>0</td>\n",
       "      <td>0</td>\n",
       "    </tr>\n",
       "    <tr>\n",
       "      <th>2</th>\n",
       "      <td>Debt consolidation</td>\n",
       "      <td>1</td>\n",
       "      <td>0</td>\n",
       "      <td>0</td>\n",
       "      <td>0</td>\n",
       "      <td>0</td>\n",
       "      <td>0</td>\n",
       "      <td>0</td>\n",
       "      <td>0</td>\n",
       "      <td>0</td>\n",
       "      <td>0</td>\n",
       "    </tr>\n",
       "    <tr>\n",
       "      <th>3</th>\n",
       "      <td>Debt consolidation</td>\n",
       "      <td>1</td>\n",
       "      <td>0</td>\n",
       "      <td>0</td>\n",
       "      <td>0</td>\n",
       "      <td>0</td>\n",
       "      <td>0</td>\n",
       "      <td>0</td>\n",
       "      <td>0</td>\n",
       "      <td>0</td>\n",
       "      <td>0</td>\n",
       "    </tr>\n",
       "    <tr>\n",
       "      <th>4</th>\n",
       "      <td>refi</td>\n",
       "      <td>0</td>\n",
       "      <td>0</td>\n",
       "      <td>0</td>\n",
       "      <td>0</td>\n",
       "      <td>0</td>\n",
       "      <td>0</td>\n",
       "      <td>0</td>\n",
       "      <td>0</td>\n",
       "      <td>0</td>\n",
       "      <td>0</td>\n",
       "    </tr>\n",
       "  </tbody>\n",
       "</table>\n",
       "</div>"
      ],
      "text/plain": [
       "          title_title  Debt consolidation_title  \\\n",
       "0  Debt consolidation                         1   \n",
       "1    Home improvement                         0   \n",
       "2  Debt consolidation                         1   \n",
       "3  Debt consolidation                         1   \n",
       "4                refi                         0   \n",
       "\n",
       "   Credit card refinancing_title  Home improvement_title  Other_title  \\\n",
       "0                              0                       0            0   \n",
       "1                              0                       1            0   \n",
       "2                              0                       0            0   \n",
       "3                              0                       0            0   \n",
       "4                              0                       0            0   \n",
       "\n",
       "   Debt Consolidation_title  Major purchase_title  Medical expenses_title  \\\n",
       "0                         0                     0                       0   \n",
       "1                         0                     0                       0   \n",
       "2                         0                     0                       0   \n",
       "3                         0                     0                       0   \n",
       "4                         0                     0                       0   \n",
       "\n",
       "   Business_title  Consolidation_title  Car financing_title  \n",
       "0               0                    0                    0  \n",
       "1               0                    0                    0  \n",
       "2               0                    0                    0  \n",
       "3               0                    0                    0  \n",
       "4               0                    0                    0  "
      ]
     },
     "execution_count": 56,
     "metadata": {},
     "output_type": "execute_result"
    }
   ],
   "source": [
    "for categories in title_top_10:\n",
    "    df_new_train[categories] = np.where(df_new_train['title'] == categories,1,0)\n",
    "df_new_train2 = df_new_train.add_suffix('_title')\n",
    "df_new_train2.head()"
   ]
  },
  {
   "cell_type": "code",
   "execution_count": 57,
   "metadata": {},
   "outputs": [],
   "source": [
    "df_new_train2.drop(['title_title'], axis = 1, inplace = True)\n",
    "train_df_2 = pd.concat([train_df_1, df_new_train2], axis = 1)\n",
    "train_df_2.drop(['title'], axis =1 , inplace = True)"
   ]
  },
  {
   "cell_type": "markdown",
   "metadata": {},
   "source": [
    "##### Let's take topmost 10 professions and perform label encoding.\n",
    "##### LABEL ENCODING OF TOP 10 EMPLOYEE TITLES. (TEST DATASET)"
   ]
  },
  {
   "cell_type": "code",
   "execution_count": 58,
   "metadata": {},
   "outputs": [
    {
     "data": {
      "text/plain": [
       "title\n",
       "Debt consolidation         165385\n",
       "Credit card refinancing     65759\n",
       "Home improvement            16113\n",
       "Other                       12839\n",
       "Debt Consolidation           6482\n",
       "                            ...  \n",
       "RECOVERY MODE                   1\n",
       "RED TRUCK                       1\n",
       "REDEMPTION                      1\n",
       "REDO                            1\n",
       "Misery Money                    1\n",
       "Name: title, Length: 27975, dtype: int64"
      ]
     },
     "execution_count": 58,
     "metadata": {},
     "output_type": "execute_result"
    }
   ],
   "source": [
    "df_new_test = pd.DataFrame(test_df_1, columns = {'title'})\n",
    "title_group = test_df_1.groupby('title')['title'].count()\n",
    "title_sorted = title_group.sort_values(ascending = False) \n",
    "title_sorted"
   ]
  },
  {
   "cell_type": "code",
   "execution_count": 59,
   "metadata": {},
   "outputs": [
    {
     "data": {
      "text/plain": [
       "['Debt consolidation',\n",
       " 'Credit card refinancing',\n",
       " 'Home improvement',\n",
       " 'Other',\n",
       " 'Debt Consolidation',\n",
       " 'Major purchase',\n",
       " 'Business',\n",
       " 'Medical expenses',\n",
       " 'Consolidation',\n",
       " 'Car financing']"
      ]
     },
     "execution_count": 59,
     "metadata": {},
     "output_type": "execute_result"
    }
   ],
   "source": [
    "title_top_10 = title_sorted[0:10]\n",
    "title_top_10 = df_new_test['title'].value_counts().sort_values(ascending = False).head(10).index\n",
    "title_top_10 = list(title_top_10)\n",
    "title_top_10"
   ]
  },
  {
   "cell_type": "code",
   "execution_count": 60,
   "metadata": {},
   "outputs": [
    {
     "data": {
      "text/html": [
       "<div>\n",
       "<style scoped>\n",
       "    .dataframe tbody tr th:only-of-type {\n",
       "        vertical-align: middle;\n",
       "    }\n",
       "\n",
       "    .dataframe tbody tr th {\n",
       "        vertical-align: top;\n",
       "    }\n",
       "\n",
       "    .dataframe thead th {\n",
       "        text-align: right;\n",
       "    }\n",
       "</style>\n",
       "<table border=\"1\" class=\"dataframe\">\n",
       "  <thead>\n",
       "    <tr style=\"text-align: right;\">\n",
       "      <th></th>\n",
       "      <th>title_title</th>\n",
       "      <th>Debt consolidation_title</th>\n",
       "      <th>Credit card refinancing_title</th>\n",
       "      <th>Home improvement_title</th>\n",
       "      <th>Other_title</th>\n",
       "      <th>Debt Consolidation_title</th>\n",
       "      <th>Major purchase_title</th>\n",
       "      <th>Business_title</th>\n",
       "      <th>Medical expenses_title</th>\n",
       "      <th>Consolidation_title</th>\n",
       "      <th>Car financing_title</th>\n",
       "    </tr>\n",
       "  </thead>\n",
       "  <tbody>\n",
       "    <tr>\n",
       "      <th>0</th>\n",
       "      <td>wrap it up</td>\n",
       "      <td>0</td>\n",
       "      <td>0</td>\n",
       "      <td>0</td>\n",
       "      <td>0</td>\n",
       "      <td>0</td>\n",
       "      <td>0</td>\n",
       "      <td>0</td>\n",
       "      <td>0</td>\n",
       "      <td>0</td>\n",
       "      <td>0</td>\n",
       "    </tr>\n",
       "    <tr>\n",
       "      <th>1</th>\n",
       "      <td>Major purchase</td>\n",
       "      <td>0</td>\n",
       "      <td>0</td>\n",
       "      <td>0</td>\n",
       "      <td>0</td>\n",
       "      <td>0</td>\n",
       "      <td>1</td>\n",
       "      <td>0</td>\n",
       "      <td>0</td>\n",
       "      <td>0</td>\n",
       "      <td>0</td>\n",
       "    </tr>\n",
       "    <tr>\n",
       "      <th>2</th>\n",
       "      <td>Debt consolidation</td>\n",
       "      <td>1</td>\n",
       "      <td>0</td>\n",
       "      <td>0</td>\n",
       "      <td>0</td>\n",
       "      <td>0</td>\n",
       "      <td>0</td>\n",
       "      <td>0</td>\n",
       "      <td>0</td>\n",
       "      <td>0</td>\n",
       "      <td>0</td>\n",
       "    </tr>\n",
       "    <tr>\n",
       "      <th>3</th>\n",
       "      <td>Debt consolidation</td>\n",
       "      <td>1</td>\n",
       "      <td>0</td>\n",
       "      <td>0</td>\n",
       "      <td>0</td>\n",
       "      <td>0</td>\n",
       "      <td>0</td>\n",
       "      <td>0</td>\n",
       "      <td>0</td>\n",
       "      <td>0</td>\n",
       "      <td>0</td>\n",
       "    </tr>\n",
       "    <tr>\n",
       "      <th>4</th>\n",
       "      <td>Major purchase</td>\n",
       "      <td>0</td>\n",
       "      <td>0</td>\n",
       "      <td>0</td>\n",
       "      <td>0</td>\n",
       "      <td>0</td>\n",
       "      <td>1</td>\n",
       "      <td>0</td>\n",
       "      <td>0</td>\n",
       "      <td>0</td>\n",
       "      <td>0</td>\n",
       "    </tr>\n",
       "  </tbody>\n",
       "</table>\n",
       "</div>"
      ],
      "text/plain": [
       "          title_title  Debt consolidation_title  \\\n",
       "0          wrap it up                         0   \n",
       "1      Major purchase                         0   \n",
       "2  Debt consolidation                         1   \n",
       "3  Debt consolidation                         1   \n",
       "4      Major purchase                         0   \n",
       "\n",
       "   Credit card refinancing_title  Home improvement_title  Other_title  \\\n",
       "0                              0                       0            0   \n",
       "1                              0                       0            0   \n",
       "2                              0                       0            0   \n",
       "3                              0                       0            0   \n",
       "4                              0                       0            0   \n",
       "\n",
       "   Debt Consolidation_title  Major purchase_title  Business_title  \\\n",
       "0                         0                     0               0   \n",
       "1                         0                     1               0   \n",
       "2                         0                     0               0   \n",
       "3                         0                     0               0   \n",
       "4                         0                     1               0   \n",
       "\n",
       "   Medical expenses_title  Consolidation_title  Car financing_title  \n",
       "0                       0                    0                    0  \n",
       "1                       0                    0                    0  \n",
       "2                       0                    0                    0  \n",
       "3                       0                    0                    0  \n",
       "4                       0                    0                    0  "
      ]
     },
     "execution_count": 60,
     "metadata": {},
     "output_type": "execute_result"
    }
   ],
   "source": [
    "for categories in title_top_10:\n",
    "    df_new_test[categories] = np.where(df_new_test['title'] == categories,1,0)\n",
    "df_new_test2 = df_new_test.add_suffix('_title')\n",
    "df_new_test2.head()"
   ]
  },
  {
   "cell_type": "code",
   "execution_count": 61,
   "metadata": {},
   "outputs": [],
   "source": [
    "df_new_test2.drop(['title_title'], axis = 1, inplace = True)\n",
    "test_df_2 = pd.concat([test_df_1, df_new_test2], axis = 1)\n",
    "test_df_2.drop(['title'], axis =1 , inplace = True)"
   ]
  },
  {
   "cell_type": "code",
   "execution_count": 62,
   "metadata": {},
   "outputs": [],
   "source": [
    "#finally, we get train_df_2 and test_df_2"
   ]
  },
  {
   "cell_type": "code",
   "execution_count": 63,
   "metadata": {},
   "outputs": [
    {
     "data": {
      "text/plain": [
       "member_id                        0.0\n",
       "loan_amnt                        0.0\n",
       "funded_amnt                      0.0\n",
       "funded_amnt_inv                  0.0\n",
       "term                             0.0\n",
       "int_rate                         0.0\n",
       "grade                            0.0\n",
       "sub_grade                        0.0\n",
       "emp_length                       0.0\n",
       "annual_inc                       0.0\n",
       "verification_status              0.0\n",
       "pymnt_plan                       0.0\n",
       "purpose                          0.0\n",
       "zip_code                         0.0\n",
       "dti                              0.0\n",
       "delinq_2yrs                      0.0\n",
       "inq_last_6mths                   0.0\n",
       "open_acc                         0.0\n",
       "pub_rec                          0.0\n",
       "revol_bal                        0.0\n",
       "revol_util                       0.0\n",
       "total_acc                        0.0\n",
       "initial_list_status              0.0\n",
       "total_rec_int                    0.0\n",
       "total_rec_late_fee               0.0\n",
       "recoveries                       0.0\n",
       "collection_recovery_fee          0.0\n",
       "collections_12_mths_ex_med       0.0\n",
       "application_type                 0.0\n",
       "last_week_pay                    0.0\n",
       "acc_now_delinq                   0.0\n",
       "tot_coll_amt                     0.0\n",
       "tot_cur_bal                      0.0\n",
       "total_rev_hi_lim                 0.0\n",
       "loan_status                      0.0\n",
       "rented_home                      0.0\n",
       "own_home                         0.0\n",
       "Teacher_title                    0.0\n",
       "Manager_title                    0.0\n",
       "Registered Nurse_title           0.0\n",
       "Owner_title                      0.0\n",
       "RN_title                         0.0\n",
       "Supervisor_title                 0.0\n",
       "Sales_title                      0.0\n",
       "Project Manager_title            0.0\n",
       "Office Manager_title             0.0\n",
       "Driver_title                     0.0\n",
       "Debt consolidation_title         0.0\n",
       "Credit card refinancing_title    0.0\n",
       "Home improvement_title           0.0\n",
       "Other_title                      0.0\n",
       "Debt Consolidation_title         0.0\n",
       "Major purchase_title             0.0\n",
       "Medical expenses_title           0.0\n",
       "Business_title                   0.0\n",
       "Consolidation_title              0.0\n",
       "Car financing_title              0.0\n",
       "dtype: float64"
      ]
     },
     "execution_count": 63,
     "metadata": {},
     "output_type": "execute_result"
    }
   ],
   "source": [
    "train_df_2.isnull().mean()"
   ]
  },
  {
   "cell_type": "code",
   "execution_count": 64,
   "metadata": {},
   "outputs": [
    {
     "data": {
      "text/plain": [
       "member_id                        0.0\n",
       "loan_amnt                        0.0\n",
       "funded_amnt                      0.0\n",
       "funded_amnt_inv                  0.0\n",
       "term                             0.0\n",
       "int_rate                         0.0\n",
       "grade                            0.0\n",
       "sub_grade                        0.0\n",
       "emp_length                       0.0\n",
       "annual_inc                       0.0\n",
       "verification_status              0.0\n",
       "pymnt_plan                       0.0\n",
       "purpose                          0.0\n",
       "zip_code                         0.0\n",
       "dti                              0.0\n",
       "delinq_2yrs                      0.0\n",
       "inq_last_6mths                   0.0\n",
       "open_acc                         0.0\n",
       "pub_rec                          0.0\n",
       "revol_bal                        0.0\n",
       "revol_util                       0.0\n",
       "total_acc                        0.0\n",
       "initial_list_status              0.0\n",
       "total_rec_int                    0.0\n",
       "total_rec_late_fee               0.0\n",
       "recoveries                       0.0\n",
       "collection_recovery_fee          0.0\n",
       "collections_12_mths_ex_med       0.0\n",
       "application_type                 0.0\n",
       "last_week_pay                    0.0\n",
       "acc_now_delinq                   0.0\n",
       "tot_coll_amt                     0.0\n",
       "tot_cur_bal                      0.0\n",
       "total_rev_hi_lim                 0.0\n",
       "own_home                         0.0\n",
       "rented_home                      0.0\n",
       "Teacher_title                    0.0\n",
       "Manager_title                    0.0\n",
       "Registered Nurse_title           0.0\n",
       "RN_title                         0.0\n",
       "Owner_title                      0.0\n",
       "Supervisor_title                 0.0\n",
       "Sales_title                      0.0\n",
       "Project Manager_title            0.0\n",
       "Driver_title                     0.0\n",
       "Office Manager_title             0.0\n",
       "Debt consolidation_title         0.0\n",
       "Credit card refinancing_title    0.0\n",
       "Home improvement_title           0.0\n",
       "Other_title                      0.0\n",
       "Debt Consolidation_title         0.0\n",
       "Major purchase_title             0.0\n",
       "Business_title                   0.0\n",
       "Medical expenses_title           0.0\n",
       "Consolidation_title              0.0\n",
       "Car financing_title              0.0\n",
       "dtype: float64"
      ]
     },
     "execution_count": 64,
     "metadata": {},
     "output_type": "execute_result"
    }
   ],
   "source": [
    "test_df_2.isnull().mean()"
   ]
  },
  {
   "cell_type": "markdown",
   "metadata": {},
   "source": [
    "## OUTLIER DETECTION"
   ]
  },
  {
   "cell_type": "code",
   "execution_count": 65,
   "metadata": {},
   "outputs": [],
   "source": [
    "def remove_outliers(data, features):\n",
    "    for c in features :\n",
    "        Q1 = np.percentile(data[c],25)\n",
    "        Q3 = np.percentile(data[c], 75)\n",
    "        IQR = Q3-Q1\n",
    "        data1 = data[(data[c]<Q3+1.5*IQR)&(data[c] > Q1 - 1.5*IQR)]\n",
    "        return data1"
   ]
  },
  {
   "cell_type": "code",
   "execution_count": 66,
   "metadata": {},
   "outputs": [],
   "source": [
    "train_df3 = remove_outliers(train_df_2 , num_cols)"
   ]
  },
  {
   "cell_type": "code",
   "execution_count": 67,
   "metadata": {},
   "outputs": [],
   "source": [
    "test_df3 = test_df_2.copy()"
   ]
  },
  {
   "cell_type": "code",
   "execution_count": 68,
   "metadata": {},
   "outputs": [
    {
     "data": {
      "text/html": [
       "<div>\n",
       "<style scoped>\n",
       "    .dataframe tbody tr th:only-of-type {\n",
       "        vertical-align: middle;\n",
       "    }\n",
       "\n",
       "    .dataframe tbody tr th {\n",
       "        vertical-align: top;\n",
       "    }\n",
       "\n",
       "    .dataframe thead th {\n",
       "        text-align: right;\n",
       "    }\n",
       "</style>\n",
       "<table border=\"1\" class=\"dataframe\">\n",
       "  <thead>\n",
       "    <tr style=\"text-align: right;\">\n",
       "      <th></th>\n",
       "      <th>member_id</th>\n",
       "      <th>loan_amnt</th>\n",
       "      <th>funded_amnt</th>\n",
       "      <th>funded_amnt_inv</th>\n",
       "      <th>term</th>\n",
       "      <th>int_rate</th>\n",
       "      <th>grade</th>\n",
       "      <th>sub_grade</th>\n",
       "      <th>emp_length</th>\n",
       "      <th>annual_inc</th>\n",
       "      <th>verification_status</th>\n",
       "      <th>pymnt_plan</th>\n",
       "      <th>purpose</th>\n",
       "      <th>zip_code</th>\n",
       "      <th>dti</th>\n",
       "      <th>delinq_2yrs</th>\n",
       "      <th>inq_last_6mths</th>\n",
       "      <th>open_acc</th>\n",
       "      <th>pub_rec</th>\n",
       "      <th>revol_bal</th>\n",
       "      <th>revol_util</th>\n",
       "      <th>total_acc</th>\n",
       "      <th>initial_list_status</th>\n",
       "      <th>total_rec_int</th>\n",
       "      <th>total_rec_late_fee</th>\n",
       "      <th>recoveries</th>\n",
       "      <th>collection_recovery_fee</th>\n",
       "      <th>collections_12_mths_ex_med</th>\n",
       "      <th>application_type</th>\n",
       "      <th>last_week_pay</th>\n",
       "      <th>acc_now_delinq</th>\n",
       "      <th>tot_coll_amt</th>\n",
       "      <th>tot_cur_bal</th>\n",
       "      <th>total_rev_hi_lim</th>\n",
       "      <th>loan_status</th>\n",
       "      <th>rented_home</th>\n",
       "      <th>own_home</th>\n",
       "      <th>Teacher_title</th>\n",
       "      <th>Manager_title</th>\n",
       "      <th>Registered Nurse_title</th>\n",
       "      <th>Owner_title</th>\n",
       "      <th>RN_title</th>\n",
       "      <th>Supervisor_title</th>\n",
       "      <th>Sales_title</th>\n",
       "      <th>Project Manager_title</th>\n",
       "      <th>Office Manager_title</th>\n",
       "      <th>Driver_title</th>\n",
       "      <th>Debt consolidation_title</th>\n",
       "      <th>Credit card refinancing_title</th>\n",
       "      <th>Home improvement_title</th>\n",
       "      <th>Other_title</th>\n",
       "      <th>Debt Consolidation_title</th>\n",
       "      <th>Major purchase_title</th>\n",
       "      <th>Medical expenses_title</th>\n",
       "      <th>Business_title</th>\n",
       "      <th>Consolidation_title</th>\n",
       "      <th>Car financing_title</th>\n",
       "    </tr>\n",
       "  </thead>\n",
       "  <tbody>\n",
       "    <tr>\n",
       "      <th>0</th>\n",
       "      <td>58189336</td>\n",
       "      <td>14350</td>\n",
       "      <td>14350</td>\n",
       "      <td>14350.0</td>\n",
       "      <td>36</td>\n",
       "      <td>19.19</td>\n",
       "      <td>E</td>\n",
       "      <td>E3</td>\n",
       "      <td>9.0</td>\n",
       "      <td>28700.0</td>\n",
       "      <td>Source Verified</td>\n",
       "      <td>n</td>\n",
       "      <td>debt_consolidation</td>\n",
       "      <td>349</td>\n",
       "      <td>33.88</td>\n",
       "      <td>0.0</td>\n",
       "      <td>1.0</td>\n",
       "      <td>14.0</td>\n",
       "      <td>1.0</td>\n",
       "      <td>22515.0</td>\n",
       "      <td>73.1</td>\n",
       "      <td>28.0</td>\n",
       "      <td>f</td>\n",
       "      <td>1173.84</td>\n",
       "      <td>0.0</td>\n",
       "      <td>0.0</td>\n",
       "      <td>0.0</td>\n",
       "      <td>0.0</td>\n",
       "      <td>INDIVIDUAL</td>\n",
       "      <td>26.0</td>\n",
       "      <td>0.0</td>\n",
       "      <td>0.0</td>\n",
       "      <td>28699.0</td>\n",
       "      <td>30800.0</td>\n",
       "      <td>0</td>\n",
       "      <td>0</td>\n",
       "      <td>1</td>\n",
       "      <td>0</td>\n",
       "      <td>0</td>\n",
       "      <td>0</td>\n",
       "      <td>0</td>\n",
       "      <td>0</td>\n",
       "      <td>0</td>\n",
       "      <td>0</td>\n",
       "      <td>0</td>\n",
       "      <td>0</td>\n",
       "      <td>0</td>\n",
       "      <td>1</td>\n",
       "      <td>0</td>\n",
       "      <td>0</td>\n",
       "      <td>0</td>\n",
       "      <td>0</td>\n",
       "      <td>0</td>\n",
       "      <td>0</td>\n",
       "      <td>0</td>\n",
       "      <td>0</td>\n",
       "      <td>0</td>\n",
       "    </tr>\n",
       "    <tr>\n",
       "      <th>1</th>\n",
       "      <td>70011223</td>\n",
       "      <td>4800</td>\n",
       "      <td>4800</td>\n",
       "      <td>4800.0</td>\n",
       "      <td>36</td>\n",
       "      <td>10.99</td>\n",
       "      <td>B</td>\n",
       "      <td>B4</td>\n",
       "      <td>1.0</td>\n",
       "      <td>65000.0</td>\n",
       "      <td>Source Verified</td>\n",
       "      <td>n</td>\n",
       "      <td>home_improvement</td>\n",
       "      <td>209</td>\n",
       "      <td>3.64</td>\n",
       "      <td>0.0</td>\n",
       "      <td>1.0</td>\n",
       "      <td>6.0</td>\n",
       "      <td>0.0</td>\n",
       "      <td>7624.0</td>\n",
       "      <td>23.2</td>\n",
       "      <td>13.0</td>\n",
       "      <td>w</td>\n",
       "      <td>83.95</td>\n",
       "      <td>0.0</td>\n",
       "      <td>0.0</td>\n",
       "      <td>0.0</td>\n",
       "      <td>0.0</td>\n",
       "      <td>INDIVIDUAL</td>\n",
       "      <td>9.0</td>\n",
       "      <td>0.0</td>\n",
       "      <td>0.0</td>\n",
       "      <td>9974.0</td>\n",
       "      <td>32900.0</td>\n",
       "      <td>0</td>\n",
       "      <td>1</td>\n",
       "      <td>0</td>\n",
       "      <td>0</td>\n",
       "      <td>0</td>\n",
       "      <td>0</td>\n",
       "      <td>0</td>\n",
       "      <td>0</td>\n",
       "      <td>0</td>\n",
       "      <td>0</td>\n",
       "      <td>0</td>\n",
       "      <td>0</td>\n",
       "      <td>0</td>\n",
       "      <td>0</td>\n",
       "      <td>0</td>\n",
       "      <td>1</td>\n",
       "      <td>0</td>\n",
       "      <td>0</td>\n",
       "      <td>0</td>\n",
       "      <td>0</td>\n",
       "      <td>0</td>\n",
       "      <td>0</td>\n",
       "      <td>0</td>\n",
       "    </tr>\n",
       "    <tr>\n",
       "      <th>2</th>\n",
       "      <td>70255675</td>\n",
       "      <td>10000</td>\n",
       "      <td>10000</td>\n",
       "      <td>10000.0</td>\n",
       "      <td>36</td>\n",
       "      <td>7.26</td>\n",
       "      <td>A</td>\n",
       "      <td>A4</td>\n",
       "      <td>2.0</td>\n",
       "      <td>45000.0</td>\n",
       "      <td>Not Verified</td>\n",
       "      <td>n</td>\n",
       "      <td>debt_consolidation</td>\n",
       "      <td>447</td>\n",
       "      <td>18.42</td>\n",
       "      <td>0.0</td>\n",
       "      <td>0.0</td>\n",
       "      <td>5.0</td>\n",
       "      <td>0.0</td>\n",
       "      <td>10877.0</td>\n",
       "      <td>31.2</td>\n",
       "      <td>19.0</td>\n",
       "      <td>w</td>\n",
       "      <td>56.47</td>\n",
       "      <td>0.0</td>\n",
       "      <td>0.0</td>\n",
       "      <td>0.0</td>\n",
       "      <td>0.0</td>\n",
       "      <td>INDIVIDUAL</td>\n",
       "      <td>9.0</td>\n",
       "      <td>0.0</td>\n",
       "      <td>65.0</td>\n",
       "      <td>38295.0</td>\n",
       "      <td>34900.0</td>\n",
       "      <td>0</td>\n",
       "      <td>0</td>\n",
       "      <td>1</td>\n",
       "      <td>0</td>\n",
       "      <td>0</td>\n",
       "      <td>0</td>\n",
       "      <td>0</td>\n",
       "      <td>0</td>\n",
       "      <td>0</td>\n",
       "      <td>0</td>\n",
       "      <td>0</td>\n",
       "      <td>0</td>\n",
       "      <td>1</td>\n",
       "      <td>1</td>\n",
       "      <td>0</td>\n",
       "      <td>0</td>\n",
       "      <td>0</td>\n",
       "      <td>0</td>\n",
       "      <td>0</td>\n",
       "      <td>0</td>\n",
       "      <td>0</td>\n",
       "      <td>0</td>\n",
       "      <td>0</td>\n",
       "    </tr>\n",
       "    <tr>\n",
       "      <th>3</th>\n",
       "      <td>1893936</td>\n",
       "      <td>15000</td>\n",
       "      <td>15000</td>\n",
       "      <td>15000.0</td>\n",
       "      <td>36</td>\n",
       "      <td>19.72</td>\n",
       "      <td>D</td>\n",
       "      <td>D5</td>\n",
       "      <td>10.0</td>\n",
       "      <td>105000.0</td>\n",
       "      <td>Not Verified</td>\n",
       "      <td>n</td>\n",
       "      <td>debt_consolidation</td>\n",
       "      <td>221</td>\n",
       "      <td>14.97</td>\n",
       "      <td>0.0</td>\n",
       "      <td>2.0</td>\n",
       "      <td>10.0</td>\n",
       "      <td>0.0</td>\n",
       "      <td>13712.0</td>\n",
       "      <td>55.5</td>\n",
       "      <td>21.0</td>\n",
       "      <td>f</td>\n",
       "      <td>4858.62</td>\n",
       "      <td>0.0</td>\n",
       "      <td>0.0</td>\n",
       "      <td>0.0</td>\n",
       "      <td>0.0</td>\n",
       "      <td>INDIVIDUAL</td>\n",
       "      <td>135.0</td>\n",
       "      <td>0.0</td>\n",
       "      <td>0.0</td>\n",
       "      <td>55564.0</td>\n",
       "      <td>24700.0</td>\n",
       "      <td>0</td>\n",
       "      <td>1</td>\n",
       "      <td>0</td>\n",
       "      <td>0</td>\n",
       "      <td>0</td>\n",
       "      <td>0</td>\n",
       "      <td>0</td>\n",
       "      <td>0</td>\n",
       "      <td>0</td>\n",
       "      <td>0</td>\n",
       "      <td>0</td>\n",
       "      <td>0</td>\n",
       "      <td>0</td>\n",
       "      <td>1</td>\n",
       "      <td>0</td>\n",
       "      <td>0</td>\n",
       "      <td>0</td>\n",
       "      <td>0</td>\n",
       "      <td>0</td>\n",
       "      <td>0</td>\n",
       "      <td>0</td>\n",
       "      <td>0</td>\n",
       "      <td>0</td>\n",
       "    </tr>\n",
       "    <tr>\n",
       "      <th>4</th>\n",
       "      <td>7652106</td>\n",
       "      <td>16000</td>\n",
       "      <td>16000</td>\n",
       "      <td>16000.0</td>\n",
       "      <td>36</td>\n",
       "      <td>10.64</td>\n",
       "      <td>B</td>\n",
       "      <td>B2</td>\n",
       "      <td>10.0</td>\n",
       "      <td>52000.0</td>\n",
       "      <td>Verified</td>\n",
       "      <td>n</td>\n",
       "      <td>credit_card</td>\n",
       "      <td>900</td>\n",
       "      <td>20.16</td>\n",
       "      <td>0.0</td>\n",
       "      <td>0.0</td>\n",
       "      <td>11.0</td>\n",
       "      <td>0.0</td>\n",
       "      <td>35835.0</td>\n",
       "      <td>76.2</td>\n",
       "      <td>27.0</td>\n",
       "      <td>w</td>\n",
       "      <td>2296.41</td>\n",
       "      <td>0.0</td>\n",
       "      <td>0.0</td>\n",
       "      <td>0.0</td>\n",
       "      <td>0.0</td>\n",
       "      <td>INDIVIDUAL</td>\n",
       "      <td>96.0</td>\n",
       "      <td>0.0</td>\n",
       "      <td>0.0</td>\n",
       "      <td>47159.0</td>\n",
       "      <td>47033.0</td>\n",
       "      <td>0</td>\n",
       "      <td>1</td>\n",
       "      <td>0</td>\n",
       "      <td>0</td>\n",
       "      <td>0</td>\n",
       "      <td>0</td>\n",
       "      <td>0</td>\n",
       "      <td>0</td>\n",
       "      <td>0</td>\n",
       "      <td>0</td>\n",
       "      <td>0</td>\n",
       "      <td>0</td>\n",
       "      <td>0</td>\n",
       "      <td>0</td>\n",
       "      <td>0</td>\n",
       "      <td>0</td>\n",
       "      <td>0</td>\n",
       "      <td>0</td>\n",
       "      <td>0</td>\n",
       "      <td>0</td>\n",
       "      <td>0</td>\n",
       "      <td>0</td>\n",
       "      <td>0</td>\n",
       "    </tr>\n",
       "  </tbody>\n",
       "</table>\n",
       "</div>"
      ],
      "text/plain": [
       "   member_id  loan_amnt  funded_amnt  funded_amnt_inv  term  int_rate grade  \\\n",
       "0   58189336      14350        14350          14350.0    36     19.19     E   \n",
       "1   70011223       4800         4800           4800.0    36     10.99     B   \n",
       "2   70255675      10000        10000          10000.0    36      7.26     A   \n",
       "3    1893936      15000        15000          15000.0    36     19.72     D   \n",
       "4    7652106      16000        16000          16000.0    36     10.64     B   \n",
       "\n",
       "  sub_grade  emp_length  annual_inc verification_status pymnt_plan  \\\n",
       "0        E3         9.0     28700.0     Source Verified          n   \n",
       "1        B4         1.0     65000.0     Source Verified          n   \n",
       "2        A4         2.0     45000.0        Not Verified          n   \n",
       "3        D5        10.0    105000.0        Not Verified          n   \n",
       "4        B2        10.0     52000.0            Verified          n   \n",
       "\n",
       "              purpose  zip_code    dti  delinq_2yrs  inq_last_6mths  open_acc  \\\n",
       "0  debt_consolidation       349  33.88          0.0             1.0      14.0   \n",
       "1    home_improvement       209   3.64          0.0             1.0       6.0   \n",
       "2  debt_consolidation       447  18.42          0.0             0.0       5.0   \n",
       "3  debt_consolidation       221  14.97          0.0             2.0      10.0   \n",
       "4         credit_card       900  20.16          0.0             0.0      11.0   \n",
       "\n",
       "   pub_rec  revol_bal  revol_util  total_acc initial_list_status  \\\n",
       "0      1.0    22515.0        73.1       28.0                   f   \n",
       "1      0.0     7624.0        23.2       13.0                   w   \n",
       "2      0.0    10877.0        31.2       19.0                   w   \n",
       "3      0.0    13712.0        55.5       21.0                   f   \n",
       "4      0.0    35835.0        76.2       27.0                   w   \n",
       "\n",
       "   total_rec_int  total_rec_late_fee  recoveries  collection_recovery_fee  \\\n",
       "0        1173.84                 0.0         0.0                      0.0   \n",
       "1          83.95                 0.0         0.0                      0.0   \n",
       "2          56.47                 0.0         0.0                      0.0   \n",
       "3        4858.62                 0.0         0.0                      0.0   \n",
       "4        2296.41                 0.0         0.0                      0.0   \n",
       "\n",
       "   collections_12_mths_ex_med application_type  last_week_pay  acc_now_delinq  \\\n",
       "0                         0.0       INDIVIDUAL           26.0             0.0   \n",
       "1                         0.0       INDIVIDUAL            9.0             0.0   \n",
       "2                         0.0       INDIVIDUAL            9.0             0.0   \n",
       "3                         0.0       INDIVIDUAL          135.0             0.0   \n",
       "4                         0.0       INDIVIDUAL           96.0             0.0   \n",
       "\n",
       "   tot_coll_amt  tot_cur_bal  total_rev_hi_lim  loan_status  rented_home  \\\n",
       "0           0.0      28699.0           30800.0            0            0   \n",
       "1           0.0       9974.0           32900.0            0            1   \n",
       "2          65.0      38295.0           34900.0            0            0   \n",
       "3           0.0      55564.0           24700.0            0            1   \n",
       "4           0.0      47159.0           47033.0            0            1   \n",
       "\n",
       "   own_home  Teacher_title  Manager_title  Registered Nurse_title  \\\n",
       "0         1              0              0                       0   \n",
       "1         0              0              0                       0   \n",
       "2         1              0              0                       0   \n",
       "3         0              0              0                       0   \n",
       "4         0              0              0                       0   \n",
       "\n",
       "   Owner_title  RN_title  Supervisor_title  Sales_title  \\\n",
       "0            0         0                 0            0   \n",
       "1            0         0                 0            0   \n",
       "2            0         0                 0            0   \n",
       "3            0         0                 0            0   \n",
       "4            0         0                 0            0   \n",
       "\n",
       "   Project Manager_title  Office Manager_title  Driver_title  \\\n",
       "0                      0                     0             0   \n",
       "1                      0                     0             0   \n",
       "2                      0                     0             1   \n",
       "3                      0                     0             0   \n",
       "4                      0                     0             0   \n",
       "\n",
       "   Debt consolidation_title  Credit card refinancing_title  \\\n",
       "0                         1                              0   \n",
       "1                         0                              0   \n",
       "2                         1                              0   \n",
       "3                         1                              0   \n",
       "4                         0                              0   \n",
       "\n",
       "   Home improvement_title  Other_title  Debt Consolidation_title  \\\n",
       "0                       0            0                         0   \n",
       "1                       1            0                         0   \n",
       "2                       0            0                         0   \n",
       "3                       0            0                         0   \n",
       "4                       0            0                         0   \n",
       "\n",
       "   Major purchase_title  Medical expenses_title  Business_title  \\\n",
       "0                     0                       0               0   \n",
       "1                     0                       0               0   \n",
       "2                     0                       0               0   \n",
       "3                     0                       0               0   \n",
       "4                     0                       0               0   \n",
       "\n",
       "   Consolidation_title  Car financing_title  \n",
       "0                    0                    0  \n",
       "1                    0                    0  \n",
       "2                    0                    0  \n",
       "3                    0                    0  \n",
       "4                    0                    0  "
      ]
     },
     "execution_count": 68,
     "metadata": {},
     "output_type": "execute_result"
    }
   ],
   "source": [
    "train_df3.head()"
   ]
  },
  {
   "cell_type": "code",
   "execution_count": 69,
   "metadata": {},
   "outputs": [
    {
     "data": {
      "text/plain": [
       "array(['E3', 'B4', 'A4', 'D5', 'B2', 'A5', 'B1', 'C4', 'D4', 'C3', 'D2',\n",
       "       'A3', 'A1', 'C1', 'D1', 'E2', 'B3', 'A2', 'C2', 'C5', 'E4', 'D3',\n",
       "       'B5', 'F2', 'F5', 'E1', 'E5', 'F4', 'F1', 'F3', 'G4', 'G3', 'G5',\n",
       "       'G1', 'G2'], dtype=object)"
      ]
     },
     "execution_count": 69,
     "metadata": {},
     "output_type": "execute_result"
    }
   ],
   "source": [
    "train_df3['sub_grade'].unique()"
   ]
  },
  {
   "cell_type": "code",
   "execution_count": 70,
   "metadata": {},
   "outputs": [],
   "source": [
    "train_df3['sub_grade'].replace(to_replace = 'A', value = '1', regex = True, inplace = True)\n",
    "train_df3['sub_grade'].replace(to_replace = 'B', value = '2', regex = True, inplace = True)\n",
    "train_df3['sub_grade'].replace(to_replace = 'C', value = '3', regex = True, inplace = True)\n",
    "train_df3['sub_grade'].replace(to_replace = 'D', value = '4', regex = True, inplace = True)\n",
    "train_df3['sub_grade'].replace(to_replace = 'E', value = '5', regex = True, inplace = True)\n",
    "train_df3['sub_grade'].replace(to_replace = 'F', value = '6', regex = True, inplace = True)\n",
    "train_df3['sub_grade'].replace(to_replace = 'G', value = '7', regex = True, inplace = True)\n",
    "train_df3['sub_grade'] = pd.to_numeric(train_df3['sub_grade'], errors = 'coerce')\n",
    "\n",
    "test_df3['sub_grade'].replace(to_replace = 'A', value = '1', regex = True, inplace = True)\n",
    "test_df3['sub_grade'].replace(to_replace = 'B', value = '2', regex = True, inplace = True)\n",
    "test_df3['sub_grade'].replace(to_replace = 'C', value = '3', regex = True, inplace = True)\n",
    "test_df3['sub_grade'].replace(to_replace = 'D', value = '4', regex = True, inplace = True)\n",
    "test_df3['sub_grade'].replace(to_replace = 'E', value = '5', regex = True, inplace = True)\n",
    "test_df3['sub_grade'].replace(to_replace = 'F', value = '6', regex = True, inplace = True)\n",
    "test_df3['sub_grade'].replace(to_replace = 'G', value = '7', regex = True, inplace = True)\n",
    "test_df3['sub_grade'] = pd.to_numeric(test_df3['sub_grade'], errors = 'coerce')"
   ]
  },
  {
   "cell_type": "code",
   "execution_count": 71,
   "metadata": {},
   "outputs": [
    {
     "data": {
      "text/plain": [
       "array(['Source Verified', 'Not Verified', 'Verified'], dtype=object)"
      ]
     },
     "execution_count": 71,
     "metadata": {},
     "output_type": "execute_result"
    }
   ],
   "source": [
    "train_df3['verification_status'].unique()"
   ]
  },
  {
   "cell_type": "code",
   "execution_count": 72,
   "metadata": {},
   "outputs": [
    {
     "data": {
      "text/plain": [
       "array(['n', 'y'], dtype=object)"
      ]
     },
     "execution_count": 72,
     "metadata": {},
     "output_type": "execute_result"
    }
   ],
   "source": [
    "train_df3['pymnt_plan'].unique()"
   ]
  },
  {
   "cell_type": "code",
   "execution_count": 73,
   "metadata": {},
   "outputs": [
    {
     "data": {
      "text/plain": [
       "array(['debt_consolidation', 'home_improvement', 'credit_card', 'other',\n",
       "       'major_purchase', 'small_business', 'vacation', 'car', 'moving',\n",
       "       'medical', 'wedding', 'renewable_energy', 'house', 'educational'],\n",
       "      dtype=object)"
      ]
     },
     "execution_count": 73,
     "metadata": {},
     "output_type": "execute_result"
    }
   ],
   "source": [
    "train_df3['purpose'].unique()"
   ]
  },
  {
   "cell_type": "code",
   "execution_count": 74,
   "metadata": {},
   "outputs": [
    {
     "data": {
      "text/plain": [
       "array(['f', 'w'], dtype=object)"
      ]
     },
     "execution_count": 74,
     "metadata": {},
     "output_type": "execute_result"
    }
   ],
   "source": [
    "train_df3['initial_list_status'].unique()"
   ]
  },
  {
   "cell_type": "code",
   "execution_count": 75,
   "metadata": {},
   "outputs": [
    {
     "data": {
      "text/plain": [
       "array(['INDIVIDUAL', 'JOINT'], dtype=object)"
      ]
     },
     "execution_count": 75,
     "metadata": {},
     "output_type": "execute_result"
    }
   ],
   "source": [
    "train_df3['application_type'].unique()"
   ]
  },
  {
   "cell_type": "markdown",
   "metadata": {},
   "source": [
    "## LET'S DO ENCODING"
   ]
  },
  {
   "cell_type": "code",
   "execution_count": 76,
   "metadata": {},
   "outputs": [],
   "source": [
    "from sklearn.preprocessing import OneHotEncoder,LabelEncoder, StandardScaler"
   ]
  },
  {
   "cell_type": "code",
   "execution_count": 77,
   "metadata": {},
   "outputs": [],
   "source": [
    "#we can use LabelEncoder for verification_status, pymnt_plan, initial_list_status, application_type, grade"
   ]
  },
  {
   "cell_type": "code",
   "execution_count": 78,
   "metadata": {},
   "outputs": [],
   "source": [
    "label_encoders = {}\n",
    "categorical_columns = ['verification_status', 'pymnt_plan', 'initial_list_status', 'application_type' , 'grade']\n",
    "\n",
    "for column in categorical_columns:\n",
    "    label_encoders[column] = LabelEncoder()\n",
    "    train_df3[column] = label_encoders[column].fit_transform(train_df3[column])"
   ]
  },
  {
   "cell_type": "code",
   "execution_count": 79,
   "metadata": {},
   "outputs": [],
   "source": [
    "label_encoders = {}\n",
    "categorical_columns = ['verification_status', 'pymnt_plan', 'initial_list_status', 'application_type' , 'grade']\n",
    "\n",
    "for column in categorical_columns:\n",
    "    label_encoders[column] = LabelEncoder()\n",
    "    test_df3[column] = label_encoders[column].fit_transform(test_df3[column])"
   ]
  },
  {
   "cell_type": "code",
   "execution_count": 80,
   "metadata": {},
   "outputs": [],
   "source": [
    "one_hot_cols = [\"purpose\"]\n",
    "for col in one_hot_cols:\n",
    "    train_df3 = pd.concat(\n",
    "        [train_df3, pd.get_dummies(train_df3[col], prefix=col)], \n",
    "        axis=1, \n",
    "        join=\"inner\",\n",
    "    )\n",
    "train_df3 = train_df3.drop(one_hot_cols, axis=1)"
   ]
  },
  {
   "cell_type": "code",
   "execution_count": 81,
   "metadata": {},
   "outputs": [],
   "source": [
    "one_hot_cols = [\"purpose\"]\n",
    "for col in one_hot_cols:\n",
    "    test_df3 = pd.concat(\n",
    "        [test_df3, pd.get_dummies(test_df3[col], prefix=col)], \n",
    "        axis=1, \n",
    "        join=\"inner\",\n",
    "    )\n",
    "test_df3 = test_df3.drop(one_hot_cols, axis=1)"
   ]
  },
  {
   "cell_type": "code",
   "execution_count": 82,
   "metadata": {},
   "outputs": [],
   "source": [
    "train_df4 = train_df3.drop(['loan_status'], axis = 1)"
   ]
  },
  {
   "cell_type": "code",
   "execution_count": 83,
   "metadata": {},
   "outputs": [],
   "source": [
    "scaler = StandardScaler()\n",
    "train_df4.loc[:] = scaler.fit_transform(train_df4)"
   ]
  },
  {
   "cell_type": "code",
   "execution_count": 84,
   "metadata": {},
   "outputs": [
    {
     "data": {
      "text/html": [
       "<div>\n",
       "<style scoped>\n",
       "    .dataframe tbody tr th:only-of-type {\n",
       "        vertical-align: middle;\n",
       "    }\n",
       "\n",
       "    .dataframe tbody tr th {\n",
       "        vertical-align: top;\n",
       "    }\n",
       "\n",
       "    .dataframe thead th {\n",
       "        text-align: right;\n",
       "    }\n",
       "</style>\n",
       "<table border=\"1\" class=\"dataframe\">\n",
       "  <thead>\n",
       "    <tr style=\"text-align: right;\">\n",
       "      <th></th>\n",
       "      <th>member_id</th>\n",
       "      <th>loan_amnt</th>\n",
       "      <th>funded_amnt</th>\n",
       "      <th>funded_amnt_inv</th>\n",
       "      <th>term</th>\n",
       "      <th>int_rate</th>\n",
       "      <th>grade</th>\n",
       "      <th>sub_grade</th>\n",
       "      <th>emp_length</th>\n",
       "      <th>annual_inc</th>\n",
       "      <th>verification_status</th>\n",
       "      <th>pymnt_plan</th>\n",
       "      <th>zip_code</th>\n",
       "      <th>dti</th>\n",
       "      <th>delinq_2yrs</th>\n",
       "      <th>inq_last_6mths</th>\n",
       "      <th>open_acc</th>\n",
       "      <th>pub_rec</th>\n",
       "      <th>revol_bal</th>\n",
       "      <th>revol_util</th>\n",
       "      <th>total_acc</th>\n",
       "      <th>initial_list_status</th>\n",
       "      <th>total_rec_int</th>\n",
       "      <th>total_rec_late_fee</th>\n",
       "      <th>recoveries</th>\n",
       "      <th>collection_recovery_fee</th>\n",
       "      <th>collections_12_mths_ex_med</th>\n",
       "      <th>application_type</th>\n",
       "      <th>last_week_pay</th>\n",
       "      <th>acc_now_delinq</th>\n",
       "      <th>tot_coll_amt</th>\n",
       "      <th>tot_cur_bal</th>\n",
       "      <th>total_rev_hi_lim</th>\n",
       "      <th>own_home</th>\n",
       "      <th>rented_home</th>\n",
       "      <th>Teacher_title</th>\n",
       "      <th>Manager_title</th>\n",
       "      <th>Registered Nurse_title</th>\n",
       "      <th>RN_title</th>\n",
       "      <th>Owner_title</th>\n",
       "      <th>Supervisor_title</th>\n",
       "      <th>Sales_title</th>\n",
       "      <th>Project Manager_title</th>\n",
       "      <th>Driver_title</th>\n",
       "      <th>Office Manager_title</th>\n",
       "      <th>Debt consolidation_title</th>\n",
       "      <th>Credit card refinancing_title</th>\n",
       "      <th>Home improvement_title</th>\n",
       "      <th>Other_title</th>\n",
       "      <th>Debt Consolidation_title</th>\n",
       "      <th>Major purchase_title</th>\n",
       "      <th>Business_title</th>\n",
       "      <th>Medical expenses_title</th>\n",
       "      <th>Consolidation_title</th>\n",
       "      <th>Car financing_title</th>\n",
       "      <th>purpose_car</th>\n",
       "      <th>purpose_credit_card</th>\n",
       "      <th>purpose_debt_consolidation</th>\n",
       "      <th>purpose_educational</th>\n",
       "      <th>purpose_home_improvement</th>\n",
       "      <th>purpose_house</th>\n",
       "      <th>purpose_major_purchase</th>\n",
       "      <th>purpose_medical</th>\n",
       "      <th>purpose_moving</th>\n",
       "      <th>purpose_other</th>\n",
       "      <th>purpose_renewable_energy</th>\n",
       "      <th>purpose_small_business</th>\n",
       "      <th>purpose_vacation</th>\n",
       "      <th>purpose_wedding</th>\n",
       "    </tr>\n",
       "  </thead>\n",
       "  <tbody>\n",
       "    <tr>\n",
       "      <th>0</th>\n",
       "      <td>11937648</td>\n",
       "      <td>14000</td>\n",
       "      <td>14000</td>\n",
       "      <td>14000.0</td>\n",
       "      <td>60</td>\n",
       "      <td>16.24</td>\n",
       "      <td>2</td>\n",
       "      <td>35</td>\n",
       "      <td>4.0</td>\n",
       "      <td>73500.0</td>\n",
       "      <td>1</td>\n",
       "      <td>0</td>\n",
       "      <td>450</td>\n",
       "      <td>28.65</td>\n",
       "      <td>1.0</td>\n",
       "      <td>1.0</td>\n",
       "      <td>16.0</td>\n",
       "      <td>0.0</td>\n",
       "      <td>29828</td>\n",
       "      <td>65.3</td>\n",
       "      <td>53.0</td>\n",
       "      <td>0</td>\n",
       "      <td>3915.61</td>\n",
       "      <td>0.0</td>\n",
       "      <td>0.0</td>\n",
       "      <td>0.0</td>\n",
       "      <td>0.0</td>\n",
       "      <td>0</td>\n",
       "      <td>104.0</td>\n",
       "      <td>0.0</td>\n",
       "      <td>0.0</td>\n",
       "      <td>85230.0</td>\n",
       "      <td>45700.0</td>\n",
       "      <td>0</td>\n",
       "      <td>1</td>\n",
       "      <td>0</td>\n",
       "      <td>0</td>\n",
       "      <td>0</td>\n",
       "      <td>0</td>\n",
       "      <td>0</td>\n",
       "      <td>0</td>\n",
       "      <td>0</td>\n",
       "      <td>0</td>\n",
       "      <td>0</td>\n",
       "      <td>0</td>\n",
       "      <td>0</td>\n",
       "      <td>0</td>\n",
       "      <td>0</td>\n",
       "      <td>0</td>\n",
       "      <td>0</td>\n",
       "      <td>0</td>\n",
       "      <td>0</td>\n",
       "      <td>0</td>\n",
       "      <td>0</td>\n",
       "      <td>0</td>\n",
       "      <td>0</td>\n",
       "      <td>1</td>\n",
       "      <td>0</td>\n",
       "      <td>0</td>\n",
       "      <td>0</td>\n",
       "      <td>0</td>\n",
       "      <td>0</td>\n",
       "      <td>0</td>\n",
       "      <td>0</td>\n",
       "      <td>0</td>\n",
       "      <td>0</td>\n",
       "      <td>0</td>\n",
       "      <td>0</td>\n",
       "      <td>0</td>\n",
       "    </tr>\n",
       "    <tr>\n",
       "      <th>1</th>\n",
       "      <td>38983318</td>\n",
       "      <td>16000</td>\n",
       "      <td>16000</td>\n",
       "      <td>16000.0</td>\n",
       "      <td>60</td>\n",
       "      <td>9.49</td>\n",
       "      <td>1</td>\n",
       "      <td>22</td>\n",
       "      <td>5.0</td>\n",
       "      <td>105000.0</td>\n",
       "      <td>1</td>\n",
       "      <td>0</td>\n",
       "      <td>275</td>\n",
       "      <td>31.19</td>\n",
       "      <td>0.0</td>\n",
       "      <td>0.0</td>\n",
       "      <td>8.0</td>\n",
       "      <td>0.0</td>\n",
       "      <td>4161</td>\n",
       "      <td>19.4</td>\n",
       "      <td>63.0</td>\n",
       "      <td>1</td>\n",
       "      <td>1495.06</td>\n",
       "      <td>0.0</td>\n",
       "      <td>0.0</td>\n",
       "      <td>0.0</td>\n",
       "      <td>0.0</td>\n",
       "      <td>0</td>\n",
       "      <td>57.0</td>\n",
       "      <td>0.0</td>\n",
       "      <td>0.0</td>\n",
       "      <td>444991.0</td>\n",
       "      <td>21400.0</td>\n",
       "      <td>0</td>\n",
       "      <td>1</td>\n",
       "      <td>0</td>\n",
       "      <td>0</td>\n",
       "      <td>0</td>\n",
       "      <td>0</td>\n",
       "      <td>0</td>\n",
       "      <td>0</td>\n",
       "      <td>0</td>\n",
       "      <td>0</td>\n",
       "      <td>0</td>\n",
       "      <td>0</td>\n",
       "      <td>0</td>\n",
       "      <td>0</td>\n",
       "      <td>0</td>\n",
       "      <td>0</td>\n",
       "      <td>0</td>\n",
       "      <td>1</td>\n",
       "      <td>0</td>\n",
       "      <td>0</td>\n",
       "      <td>0</td>\n",
       "      <td>0</td>\n",
       "      <td>0</td>\n",
       "      <td>0</td>\n",
       "      <td>0</td>\n",
       "      <td>0</td>\n",
       "      <td>0</td>\n",
       "      <td>0</td>\n",
       "      <td>1</td>\n",
       "      <td>0</td>\n",
       "      <td>0</td>\n",
       "      <td>0</td>\n",
       "      <td>0</td>\n",
       "      <td>0</td>\n",
       "      <td>0</td>\n",
       "      <td>0</td>\n",
       "    </tr>\n",
       "    <tr>\n",
       "      <th>2</th>\n",
       "      <td>27999917</td>\n",
       "      <td>11050</td>\n",
       "      <td>11050</td>\n",
       "      <td>11050.0</td>\n",
       "      <td>60</td>\n",
       "      <td>15.61</td>\n",
       "      <td>3</td>\n",
       "      <td>41</td>\n",
       "      <td>10.0</td>\n",
       "      <td>62300.0</td>\n",
       "      <td>0</td>\n",
       "      <td>0</td>\n",
       "      <td>672</td>\n",
       "      <td>21.73</td>\n",
       "      <td>1.0</td>\n",
       "      <td>0.0</td>\n",
       "      <td>11.0</td>\n",
       "      <td>1.0</td>\n",
       "      <td>12064</td>\n",
       "      <td>74.0</td>\n",
       "      <td>20.0</td>\n",
       "      <td>1</td>\n",
       "      <td>2096.21</td>\n",
       "      <td>0.0</td>\n",
       "      <td>0.0</td>\n",
       "      <td>0.0</td>\n",
       "      <td>0.0</td>\n",
       "      <td>0</td>\n",
       "      <td>70.0</td>\n",
       "      <td>0.0</td>\n",
       "      <td>0.0</td>\n",
       "      <td>105737.0</td>\n",
       "      <td>16300.0</td>\n",
       "      <td>0</td>\n",
       "      <td>1</td>\n",
       "      <td>0</td>\n",
       "      <td>0</td>\n",
       "      <td>0</td>\n",
       "      <td>0</td>\n",
       "      <td>0</td>\n",
       "      <td>0</td>\n",
       "      <td>0</td>\n",
       "      <td>0</td>\n",
       "      <td>0</td>\n",
       "      <td>0</td>\n",
       "      <td>1</td>\n",
       "      <td>0</td>\n",
       "      <td>0</td>\n",
       "      <td>0</td>\n",
       "      <td>0</td>\n",
       "      <td>0</td>\n",
       "      <td>0</td>\n",
       "      <td>0</td>\n",
       "      <td>0</td>\n",
       "      <td>0</td>\n",
       "      <td>0</td>\n",
       "      <td>0</td>\n",
       "      <td>1</td>\n",
       "      <td>0</td>\n",
       "      <td>0</td>\n",
       "      <td>0</td>\n",
       "      <td>0</td>\n",
       "      <td>0</td>\n",
       "      <td>0</td>\n",
       "      <td>0</td>\n",
       "      <td>0</td>\n",
       "      <td>0</td>\n",
       "      <td>0</td>\n",
       "      <td>0</td>\n",
       "    </tr>\n",
       "    <tr>\n",
       "      <th>3</th>\n",
       "      <td>61514932</td>\n",
       "      <td>35000</td>\n",
       "      <td>35000</td>\n",
       "      <td>34700.0</td>\n",
       "      <td>60</td>\n",
       "      <td>12.69</td>\n",
       "      <td>2</td>\n",
       "      <td>32</td>\n",
       "      <td>10.0</td>\n",
       "      <td>150000.0</td>\n",
       "      <td>1</td>\n",
       "      <td>0</td>\n",
       "      <td>961</td>\n",
       "      <td>17.27</td>\n",
       "      <td>0.0</td>\n",
       "      <td>0.0</td>\n",
       "      <td>21.0</td>\n",
       "      <td>0.0</td>\n",
       "      <td>32549</td>\n",
       "      <td>45.0</td>\n",
       "      <td>26.0</td>\n",
       "      <td>0</td>\n",
       "      <td>1756.31</td>\n",
       "      <td>0.0</td>\n",
       "      <td>0.0</td>\n",
       "      <td>0.0</td>\n",
       "      <td>0.0</td>\n",
       "      <td>0</td>\n",
       "      <td>22.0</td>\n",
       "      <td>0.0</td>\n",
       "      <td>0.0</td>\n",
       "      <td>287022.0</td>\n",
       "      <td>72400.0</td>\n",
       "      <td>1</td>\n",
       "      <td>0</td>\n",
       "      <td>0</td>\n",
       "      <td>0</td>\n",
       "      <td>0</td>\n",
       "      <td>0</td>\n",
       "      <td>0</td>\n",
       "      <td>0</td>\n",
       "      <td>0</td>\n",
       "      <td>0</td>\n",
       "      <td>0</td>\n",
       "      <td>0</td>\n",
       "      <td>1</td>\n",
       "      <td>0</td>\n",
       "      <td>0</td>\n",
       "      <td>0</td>\n",
       "      <td>0</td>\n",
       "      <td>0</td>\n",
       "      <td>0</td>\n",
       "      <td>0</td>\n",
       "      <td>0</td>\n",
       "      <td>0</td>\n",
       "      <td>0</td>\n",
       "      <td>0</td>\n",
       "      <td>1</td>\n",
       "      <td>0</td>\n",
       "      <td>0</td>\n",
       "      <td>0</td>\n",
       "      <td>0</td>\n",
       "      <td>0</td>\n",
       "      <td>0</td>\n",
       "      <td>0</td>\n",
       "      <td>0</td>\n",
       "      <td>0</td>\n",
       "      <td>0</td>\n",
       "      <td>0</td>\n",
       "    </tr>\n",
       "    <tr>\n",
       "      <th>4</th>\n",
       "      <td>59622821</td>\n",
       "      <td>6500</td>\n",
       "      <td>6500</td>\n",
       "      <td>6500.0</td>\n",
       "      <td>36</td>\n",
       "      <td>6.89</td>\n",
       "      <td>0</td>\n",
       "      <td>13</td>\n",
       "      <td>5.0</td>\n",
       "      <td>52000.0</td>\n",
       "      <td>0</td>\n",
       "      <td>0</td>\n",
       "      <td>707</td>\n",
       "      <td>20.19</td>\n",
       "      <td>0.0</td>\n",
       "      <td>0.0</td>\n",
       "      <td>16.0</td>\n",
       "      <td>0.0</td>\n",
       "      <td>5133</td>\n",
       "      <td>19.2</td>\n",
       "      <td>36.0</td>\n",
       "      <td>1</td>\n",
       "      <td>172.21</td>\n",
       "      <td>0.0</td>\n",
       "      <td>0.0</td>\n",
       "      <td>0.0</td>\n",
       "      <td>0.0</td>\n",
       "      <td>0</td>\n",
       "      <td>22.0</td>\n",
       "      <td>0.0</td>\n",
       "      <td>0.0</td>\n",
       "      <td>234278.0</td>\n",
       "      <td>26700.0</td>\n",
       "      <td>0</td>\n",
       "      <td>1</td>\n",
       "      <td>0</td>\n",
       "      <td>0</td>\n",
       "      <td>0</td>\n",
       "      <td>0</td>\n",
       "      <td>0</td>\n",
       "      <td>0</td>\n",
       "      <td>0</td>\n",
       "      <td>0</td>\n",
       "      <td>0</td>\n",
       "      <td>0</td>\n",
       "      <td>0</td>\n",
       "      <td>0</td>\n",
       "      <td>0</td>\n",
       "      <td>0</td>\n",
       "      <td>0</td>\n",
       "      <td>1</td>\n",
       "      <td>0</td>\n",
       "      <td>0</td>\n",
       "      <td>0</td>\n",
       "      <td>0</td>\n",
       "      <td>0</td>\n",
       "      <td>0</td>\n",
       "      <td>0</td>\n",
       "      <td>0</td>\n",
       "      <td>0</td>\n",
       "      <td>0</td>\n",
       "      <td>1</td>\n",
       "      <td>0</td>\n",
       "      <td>0</td>\n",
       "      <td>0</td>\n",
       "      <td>0</td>\n",
       "      <td>0</td>\n",
       "      <td>0</td>\n",
       "      <td>0</td>\n",
       "    </tr>\n",
       "  </tbody>\n",
       "</table>\n",
       "</div>"
      ],
      "text/plain": [
       "   member_id  loan_amnt  funded_amnt  funded_amnt_inv  term  int_rate  grade  \\\n",
       "0   11937648      14000        14000          14000.0    60     16.24      2   \n",
       "1   38983318      16000        16000          16000.0    60      9.49      1   \n",
       "2   27999917      11050        11050          11050.0    60     15.61      3   \n",
       "3   61514932      35000        35000          34700.0    60     12.69      2   \n",
       "4   59622821       6500         6500           6500.0    36      6.89      0   \n",
       "\n",
       "   sub_grade  emp_length  annual_inc  verification_status  pymnt_plan  \\\n",
       "0         35         4.0     73500.0                    1           0   \n",
       "1         22         5.0    105000.0                    1           0   \n",
       "2         41        10.0     62300.0                    0           0   \n",
       "3         32        10.0    150000.0                    1           0   \n",
       "4         13         5.0     52000.0                    0           0   \n",
       "\n",
       "   zip_code    dti  delinq_2yrs  inq_last_6mths  open_acc  pub_rec  revol_bal  \\\n",
       "0       450  28.65          1.0             1.0      16.0      0.0      29828   \n",
       "1       275  31.19          0.0             0.0       8.0      0.0       4161   \n",
       "2       672  21.73          1.0             0.0      11.0      1.0      12064   \n",
       "3       961  17.27          0.0             0.0      21.0      0.0      32549   \n",
       "4       707  20.19          0.0             0.0      16.0      0.0       5133   \n",
       "\n",
       "   revol_util  total_acc  initial_list_status  total_rec_int  \\\n",
       "0        65.3       53.0                    0        3915.61   \n",
       "1        19.4       63.0                    1        1495.06   \n",
       "2        74.0       20.0                    1        2096.21   \n",
       "3        45.0       26.0                    0        1756.31   \n",
       "4        19.2       36.0                    1         172.21   \n",
       "\n",
       "   total_rec_late_fee  recoveries  collection_recovery_fee  \\\n",
       "0                 0.0         0.0                      0.0   \n",
       "1                 0.0         0.0                      0.0   \n",
       "2                 0.0         0.0                      0.0   \n",
       "3                 0.0         0.0                      0.0   \n",
       "4                 0.0         0.0                      0.0   \n",
       "\n",
       "   collections_12_mths_ex_med  application_type  last_week_pay  \\\n",
       "0                         0.0                 0          104.0   \n",
       "1                         0.0                 0           57.0   \n",
       "2                         0.0                 0           70.0   \n",
       "3                         0.0                 0           22.0   \n",
       "4                         0.0                 0           22.0   \n",
       "\n",
       "   acc_now_delinq  tot_coll_amt  tot_cur_bal  total_rev_hi_lim  own_home  \\\n",
       "0             0.0           0.0      85230.0           45700.0         0   \n",
       "1             0.0           0.0     444991.0           21400.0         0   \n",
       "2             0.0           0.0     105737.0           16300.0         0   \n",
       "3             0.0           0.0     287022.0           72400.0         1   \n",
       "4             0.0           0.0     234278.0           26700.0         0   \n",
       "\n",
       "   rented_home  Teacher_title  Manager_title  Registered Nurse_title  \\\n",
       "0            1              0              0                       0   \n",
       "1            1              0              0                       0   \n",
       "2            1              0              0                       0   \n",
       "3            0              0              0                       0   \n",
       "4            1              0              0                       0   \n",
       "\n",
       "   RN_title  Owner_title  Supervisor_title  Sales_title  \\\n",
       "0         0            0                 0            0   \n",
       "1         0            0                 0            0   \n",
       "2         0            0                 0            0   \n",
       "3         0            0                 0            0   \n",
       "4         0            0                 0            0   \n",
       "\n",
       "   Project Manager_title  Driver_title  Office Manager_title  \\\n",
       "0                      0             0                     0   \n",
       "1                      0             0                     0   \n",
       "2                      0             0                     0   \n",
       "3                      0             0                     0   \n",
       "4                      0             0                     0   \n",
       "\n",
       "   Debt consolidation_title  Credit card refinancing_title  \\\n",
       "0                         0                              0   \n",
       "1                         0                              0   \n",
       "2                         1                              0   \n",
       "3                         1                              0   \n",
       "4                         0                              0   \n",
       "\n",
       "   Home improvement_title  Other_title  Debt Consolidation_title  \\\n",
       "0                       0            0                         0   \n",
       "1                       0            0                         0   \n",
       "2                       0            0                         0   \n",
       "3                       0            0                         0   \n",
       "4                       0            0                         0   \n",
       "\n",
       "   Major purchase_title  Business_title  Medical expenses_title  \\\n",
       "0                     0               0                       0   \n",
       "1                     1               0                       0   \n",
       "2                     0               0                       0   \n",
       "3                     0               0                       0   \n",
       "4                     1               0                       0   \n",
       "\n",
       "   Consolidation_title  Car financing_title  purpose_car  purpose_credit_card  \\\n",
       "0                    0                    0            0                    1   \n",
       "1                    0                    0            0                    0   \n",
       "2                    0                    0            0                    0   \n",
       "3                    0                    0            0                    0   \n",
       "4                    0                    0            0                    0   \n",
       "\n",
       "   purpose_debt_consolidation  purpose_educational  purpose_home_improvement  \\\n",
       "0                           0                    0                         0   \n",
       "1                           0                    0                         0   \n",
       "2                           1                    0                         0   \n",
       "3                           1                    0                         0   \n",
       "4                           0                    0                         0   \n",
       "\n",
       "   purpose_house  purpose_major_purchase  purpose_medical  purpose_moving  \\\n",
       "0              0                       0                0               0   \n",
       "1              0                       1                0               0   \n",
       "2              0                       0                0               0   \n",
       "3              0                       0                0               0   \n",
       "4              0                       1                0               0   \n",
       "\n",
       "   purpose_other  purpose_renewable_energy  purpose_small_business  \\\n",
       "0              0                         0                       0   \n",
       "1              0                         0                       0   \n",
       "2              0                         0                       0   \n",
       "3              0                         0                       0   \n",
       "4              0                         0                       0   \n",
       "\n",
       "   purpose_vacation  purpose_wedding  \n",
       "0                 0                0  \n",
       "1                 0                0  \n",
       "2                 0                0  \n",
       "3                 0                0  \n",
       "4                 0                0  "
      ]
     },
     "execution_count": 84,
     "metadata": {},
     "output_type": "execute_result"
    }
   ],
   "source": [
    "test_df3.head()"
   ]
  },
  {
   "cell_type": "code",
   "execution_count": 85,
   "metadata": {},
   "outputs": [],
   "source": [
    "scaler = StandardScaler()\n",
    "test_df3.loc[:] = scaler.fit_transform(test_df3)"
   ]
  },
  {
   "cell_type": "markdown",
   "metadata": {},
   "source": [
    "## LET'S PERFORM THE MODELLING"
   ]
  },
  {
   "cell_type": "code",
   "execution_count": 86,
   "metadata": {},
   "outputs": [],
   "source": [
    "X_train = train_df4\n",
    "Y_train = train_df3['loan_status']\n",
    "X_test = test_df3"
   ]
  },
  {
   "cell_type": "code",
   "execution_count": 87,
   "metadata": {},
   "outputs": [
    {
     "data": {
      "text/plain": [
       "<AxesSubplot:xlabel='loan_status', ylabel='count'>"
      ]
     },
     "execution_count": 87,
     "metadata": {},
     "output_type": "execute_result"
    },
    {
     "data": {
      "image/png": "[encoded data removed]",
      "text/plain": [
       "<Figure size 432x288 with 1 Axes>"
      ]
     },
     "metadata": {
      "needs_background": "light"
     },
     "output_type": "display_data"
    }
   ],
   "source": [
    "sns.countplot(Y_train)"
   ]
  },
  {
   "cell_type": "code",
   "execution_count": 88,
   "metadata": {},
   "outputs": [],
   "source": [
    "#dataset is highly imbalanced."
   ]
  },
  {
   "cell_type": "code",
   "execution_count": 89,
   "metadata": {},
   "outputs": [],
   "source": [
    "seed =7"
   ]
  },
  {
   "cell_type": "code",
   "execution_count": 90,
   "metadata": {},
   "outputs": [],
   "source": [
    "from sklearn.model_selection import train_test_split\n",
    "x_train, x_test, y_train, y_test =train_test_split(X_train,Y_train,random_state=seed)"
   ]
  },
  {
   "cell_type": "code",
   "execution_count": 91,
   "metadata": {},
   "outputs": [],
   "source": [
    "#pip install xgboost"
   ]
  },
  {
   "cell_type": "code",
   "execution_count": 92,
   "metadata": {},
   "outputs": [],
   "source": [
    "from sklearn.discriminant_analysis import LinearDiscriminantAnalysis\n",
    "from sklearn.linear_model import LogisticRegression\n",
    "from sklearn.tree import DecisionTreeClassifier\n",
    "from sklearn.svm import SVC\n",
    "from sklearn.neighbors import KNeighborsClassifier\n",
    "from sklearn.naive_bayes import GaussianNB\n",
    "from sklearn.ensemble import RandomForestClassifier\n",
    "from sklearn.ensemble import AdaBoostClassifier\n",
    "from xgboost import XGBClassifier\n",
    "from sklearn.neural_network import MLPClassifier"
   ]
  },
  {
   "cell_type": "code",
   "execution_count": 93,
   "metadata": {},
   "outputs": [],
   "source": [
    "models=[]\n",
    "models.append((\"logreg\",LogisticRegression()))\n",
    "models.append((\"tree\",DecisionTreeClassifier()))\n",
    "models.append((\"lda\",LinearDiscriminantAnalysis()))\n",
    "# models.append((\"svc\",SVC()))\n",
    "# models.append((\"knn\",KNeighborsClassifier()))\n",
    "models.append((\"nb\",GaussianNB()))\n",
    "models.append((\"rfc\",RandomForestClassifier()))\n",
    "models.append((\"ac\",AdaBoostClassifier()))\n",
    "models.append((\"xgb\",XGBClassifier()))\n",
    "models.append((\"mlp\",MLPClassifier()))"
   ]
  },
  {
   "cell_type": "code",
   "execution_count": 94,
   "metadata": {},
   "outputs": [],
   "source": [
    "scoring='accuracy'"
   ]
  },
  {
   "cell_type": "code",
   "execution_count": 95,
   "metadata": {},
   "outputs": [],
   "source": [
    "from sklearn.model_selection import KFold \n",
    "from sklearn.model_selection import cross_val_score\n",
    "result=[]\n",
    "names=[]"
   ]
  },
  {
   "cell_type": "code",
   "execution_count": 96,
   "metadata": {},
   "outputs": [
    {
     "name": "stdout",
     "output_type": "stream",
     "text": [
      "logreg 0.875617 0.000483\n",
      "tree 0.905195 0.000648\n",
      "lda 0.849968 0.001140\n",
      "nb 0.333399 0.001801\n",
      "rfc 0.915170 0.000116\n",
      "ac 0.893869 0.000734\n",
      "[19:25:17] WARNING: C:/Users/Administrator/workspace/xgboost-win64_release_1.5.0/src/learner.cc:1115: Starting in XGBoost 1.3.0, the default evaluation metric used with the objective 'binary:logistic' was changed from 'error' to 'logloss'. Explicitly set eval_metric if you'd like to restore the old behavior.\n",
      "[19:26:05] WARNING: C:/Users/Administrator/workspace/xgboost-win64_release_1.5.0/src/learner.cc:1115: Starting in XGBoost 1.3.0, the default evaluation metric used with the objective 'binary:logistic' was changed from 'error' to 'logloss'. Explicitly set eval_metric if you'd like to restore the old behavior.\n",
      "xgb 0.938360 0.000873\n",
      "mlp 0.930475 0.000430\n"
     ]
    }
   ],
   "source": [
    "for name,model in models:\n",
    "    #print(model)\n",
    "    kfold=KFold(n_splits= 2, random_state = seed, shuffle = True)\n",
    "    cv_result=cross_val_score(model,X_train,Y_train,cv=kfold,scoring=scoring)\n",
    "    result.append(cv_result)\n",
    "    names.append(name)\n",
    "    print(\"%s %f %f\" % (name,cv_result.mean(),cv_result.std()))"
   ]
  },
  {
   "cell_type": "code",
   "execution_count": 97,
   "metadata": {},
   "outputs": [],
   "source": [
    "#thus we see that RandomForestClassifier works the best. Since, it's cv mean is high and cv std is low. "
   ]
  },
  {
   "cell_type": "code",
   "execution_count": 98,
   "metadata": {},
   "outputs": [],
   "source": [
    "#We're interested in lowering down the FP as much as we can."
   ]
  },
  {
   "cell_type": "code",
   "execution_count": 99,
   "metadata": {},
   "outputs": [],
   "source": [
    "#Let's evaluate 3 models viz, RFC, XGBoost & MLP."
   ]
  },
  {
   "cell_type": "code",
   "execution_count": 100,
   "metadata": {},
   "outputs": [],
   "source": [
    "from sklearn.metrics import accuracy_score\n",
    "from sklearn.metrics import confusion_matrix\n",
    "from sklearn.metrics import classification_report"
   ]
  },
  {
   "cell_type": "code",
   "execution_count": 101,
   "metadata": {},
   "outputs": [
    {
     "name": "stdout",
     "output_type": "stream",
     "text": [
      "[19:37:07] WARNING: C:/Users/Administrator/workspace/xgboost-win64_release_1.5.0/src/learner.cc:1115: Starting in XGBoost 1.3.0, the default evaluation metric used with the objective 'binary:logistic' was changed from 'error' to 'logloss'. Explicitly set eval_metric if you'd like to restore the old behavior.\n",
      "93.90715739968597\n",
      "[[97535  4186]\n",
      " [ 3924 27462]]\n",
      "              precision    recall  f1-score   support\n",
      "\n",
      "           0       0.96      0.96      0.96    101721\n",
      "           1       0.87      0.87      0.87     31386\n",
      "\n",
      "    accuracy                           0.94    133107\n",
      "   macro avg       0.91      0.92      0.92    133107\n",
      "weighted avg       0.94      0.94      0.94    133107\n",
      "\n"
     ]
    }
   ],
   "source": [
    "svc=XGBClassifier()\n",
    "svc.fit(x_train,y_train)\n",
    "pred=svc.predict(x_test)\n",
    "print(100*(accuracy_score(y_test,pred)))\n",
    "print(confusion_matrix(y_test,pred))\n",
    "print(classification_report(y_test,pred))"
   ]
  },
  {
   "cell_type": "code",
   "execution_count": 102,
   "metadata": {},
   "outputs": [
    {
     "name": "stdout",
     "output_type": "stream",
     "text": [
      "91.83814525156453\n",
      "[[99188  2533]\n",
      " [ 8331 23055]]\n",
      "              precision    recall  f1-score   support\n",
      "\n",
      "           0       0.92      0.98      0.95    101721\n",
      "           1       0.90      0.73      0.81     31386\n",
      "\n",
      "    accuracy                           0.92    133107\n",
      "   macro avg       0.91      0.85      0.88    133107\n",
      "weighted avg       0.92      0.92      0.92    133107\n",
      "\n"
     ]
    }
   ],
   "source": [
    "svc=RandomForestClassifier()\n",
    "svc.fit(x_train,y_train)\n",
    "pred=svc.predict(x_test)\n",
    "print(100*(accuracy_score(y_test,pred)))\n",
    "print(confusion_matrix(y_test,pred))\n",
    "print(classification_report(y_test,pred))"
   ]
  },
  {
   "cell_type": "code",
   "execution_count": 103,
   "metadata": {},
   "outputs": [
    {
     "name": "stdout",
     "output_type": "stream",
     "text": [
      "93.23025836357216\n",
      "[[96769  4952]\n",
      " [ 4059 27327]]\n",
      "              precision    recall  f1-score   support\n",
      "\n",
      "           0       0.96      0.95      0.96    101721\n",
      "           1       0.85      0.87      0.86     31386\n",
      "\n",
      "    accuracy                           0.93    133107\n",
      "   macro avg       0.90      0.91      0.91    133107\n",
      "weighted avg       0.93      0.93      0.93    133107\n",
      "\n"
     ]
    }
   ],
   "source": [
    "svc=MLPClassifier()\n",
    "svc.fit(x_train,y_train)\n",
    "pred=svc.predict(x_test)\n",
    "print(100*(accuracy_score(y_test,pred)))\n",
    "print(confusion_matrix(y_test,pred))\n",
    "print(classification_report(y_test,pred))"
   ]
  },
  {
   "cell_type": "code",
   "execution_count": 104,
   "metadata": {},
   "outputs": [],
   "source": [
    "# Thus, XGB has higher accuracy & f1 score. Thus, we'll stick to RFC."
   ]
  },
  {
   "cell_type": "code",
   "execution_count": 105,
   "metadata": {},
   "outputs": [],
   "source": [
    "rf1 = XGBClassifier()\n",
    "rf1.fit(X_train, Y_train)\n",
    "y_pred_rf1 = rf1.predict(X_test)\n",
    "y_pred_rf1 = pd.DataFrame(y_pred_rf1, columns = {'Predicted'})"
   ]
  },
  {
   "cell_type": "markdown",
   "metadata": {},
   "source": [
    "### Since, the dataset is imbalanced, let's use SMOTE."
   ]
  },
  {
   "cell_type": "code",
   "execution_count": 106,
   "metadata": {},
   "outputs": [],
   "source": [
    "from imblearn.over_sampling import SMOTE"
   ]
  },
  {
   "cell_type": "code",
   "execution_count": 107,
   "metadata": {},
   "outputs": [
    {
     "data": {
      "text/plain": [
       "((813202, 69), (813202,))"
      ]
     },
     "execution_count": 107,
     "metadata": {},
     "output_type": "execute_result"
    }
   ],
   "source": [
    "smote = SMOTE()\n",
    "X_tf,y_tf = smote.fit_resample(X_train,Y_train)\n",
    "X_tf.shape, y_tf.shape"
   ]
  },
  {
   "cell_type": "code",
   "execution_count": 108,
   "metadata": {},
   "outputs": [],
   "source": [
    "from sklearn.preprocessing import RobustScaler"
   ]
  },
  {
   "cell_type": "code",
   "execution_count": 110,
   "metadata": {},
   "outputs": [
    {
     "name": "stdout",
     "output_type": "stream",
     "text": [
      "609901 203301\n"
     ]
    }
   ],
   "source": [
    "scaler = RobustScaler()\n",
    "X_tf = scaler.fit_transform(X_tf)\n",
    "\n",
    "# Split the data into training and testing sets \n",
    "x_train,x_test,y_train,y_test = train_test_split(X_tf,y_tf, random_state = 3300)\n",
    "\n",
    "print(x_train.shape[0], x_test.shape[0])"
   ]
  },
  {
   "cell_type": "code",
   "execution_count": 111,
   "metadata": {},
   "outputs": [
    {
     "name": "stdout",
     "output_type": "stream",
     "text": [
      "logreg 0.841784 0.000397\n",
      "tree 0.931507 0.000144\n",
      "lda 0.812737 0.000124\n",
      "nb 0.560063 0.007837\n",
      "rfc 0.947546 0.000161\n",
      "ac 0.885204 0.000675\n",
      "[20:08:17] WARNING: C:/Users/Administrator/workspace/xgboost-win64_release_1.5.0/src/learner.cc:1115: Starting in XGBoost 1.3.0, the default evaluation metric used with the objective 'binary:logistic' was changed from 'error' to 'logloss'. Explicitly set eval_metric if you'd like to restore the old behavior.\n",
      "[20:09:27] WARNING: C:/Users/Administrator/workspace/xgboost-win64_release_1.5.0/src/learner.cc:1115: Starting in XGBoost 1.3.0, the default evaluation metric used with the objective 'binary:logistic' was changed from 'error' to 'logloss'. Explicitly set eval_metric if you'd like to restore the old behavior.\n",
      "xgb 0.958797 0.000138\n",
      "mlp 0.938918 0.000607\n"
     ]
    }
   ],
   "source": [
    "for name,model in models:\n",
    "    #print(model)\n",
    "    kfold=KFold(n_splits= 2, random_state = seed, shuffle = True)\n",
    "    cv_result=cross_val_score(model,x_train,y_train,cv=kfold,scoring=scoring)\n",
    "    result.append(cv_result)\n",
    "    names.append(name)\n",
    "    print(\"%s %f %f\" % (name,cv_result.mean(),cv_result.std()))"
   ]
  },
  {
   "cell_type": "code",
   "execution_count": 118,
   "metadata": {},
   "outputs": [
    {
     "name": "stdout",
     "output_type": "stream",
     "text": [
      "95.42697773252468\n",
      "[[97503  4016]\n",
      " [ 5281 96501]]\n",
      "              precision    recall  f1-score   support\n",
      "\n",
      "           0       0.95      0.96      0.95    101519\n",
      "           1       0.96      0.95      0.95    101782\n",
      "\n",
      "    accuracy                           0.95    203301\n",
      "   macro avg       0.95      0.95      0.95    203301\n",
      "weighted avg       0.95      0.95      0.95    203301\n",
      "\n"
     ]
    }
   ],
   "source": [
    "svc=RandomForestClassifier()\n",
    "svc.fit(x_train,y_train)\n",
    "pred=svc.predict(x_test)\n",
    "print(100*(accuracy_score(y_test,pred)))\n",
    "print(confusion_matrix(y_test,pred))\n",
    "print(classification_report(y_test,pred))"
   ]
  },
  {
   "cell_type": "code",
   "execution_count": 121,
   "metadata": {},
   "outputs": [],
   "source": [
    "#thus, using SMOTE the accuracy increases."
   ]
  },
  {
   "cell_type": "code",
   "execution_count": 119,
   "metadata": {},
   "outputs": [],
   "source": [
    "rf1 = RandomForestClassifier()\n",
    "rf1.fit(X_train, Y_train)\n",
    "y_pred_rf1 = rf1.predict(X_test)\n",
    "y_pred_rf1 = pd.DataFrame(y_pred_rf1, columns = {'Predicted'})"
   ]
  },
  {
   "cell_type": "code",
   "execution_count": 120,
   "metadata": {},
   "outputs": [
    {
     "data": {
      "text/html": [
       "<div>\n",
       "<style scoped>\n",
       "    .dataframe tbody tr th:only-of-type {\n",
       "        vertical-align: middle;\n",
       "    }\n",
       "\n",
       "    .dataframe tbody tr th {\n",
       "        vertical-align: top;\n",
       "    }\n",
       "\n",
       "    .dataframe thead th {\n",
       "        text-align: right;\n",
       "    }\n",
       "</style>\n",
       "<table border=\"1\" class=\"dataframe\">\n",
       "  <thead>\n",
       "    <tr style=\"text-align: right;\">\n",
       "      <th></th>\n",
       "      <th>Predicted</th>\n",
       "    </tr>\n",
       "  </thead>\n",
       "  <tbody>\n",
       "    <tr>\n",
       "      <th>0</th>\n",
       "      <td>0</td>\n",
       "    </tr>\n",
       "    <tr>\n",
       "      <th>1</th>\n",
       "      <td>0</td>\n",
       "    </tr>\n",
       "    <tr>\n",
       "      <th>2</th>\n",
       "      <td>0</td>\n",
       "    </tr>\n",
       "    <tr>\n",
       "      <th>3</th>\n",
       "      <td>0</td>\n",
       "    </tr>\n",
       "    <tr>\n",
       "      <th>4</th>\n",
       "      <td>0</td>\n",
       "    </tr>\n",
       "    <tr>\n",
       "      <th>...</th>\n",
       "      <td>...</td>\n",
       "    </tr>\n",
       "    <tr>\n",
       "      <th>354946</th>\n",
       "      <td>0</td>\n",
       "    </tr>\n",
       "    <tr>\n",
       "      <th>354947</th>\n",
       "      <td>0</td>\n",
       "    </tr>\n",
       "    <tr>\n",
       "      <th>354948</th>\n",
       "      <td>1</td>\n",
       "    </tr>\n",
       "    <tr>\n",
       "      <th>354949</th>\n",
       "      <td>0</td>\n",
       "    </tr>\n",
       "    <tr>\n",
       "      <th>354950</th>\n",
       "      <td>1</td>\n",
       "    </tr>\n",
       "  </tbody>\n",
       "</table>\n",
       "<p>354951 rows × 1 columns</p>\n",
       "</div>"
      ],
      "text/plain": [
       "        Predicted\n",
       "0               0\n",
       "1               0\n",
       "2               0\n",
       "3               0\n",
       "4               0\n",
       "...           ...\n",
       "354946          0\n",
       "354947          0\n",
       "354948          1\n",
       "354949          0\n",
       "354950          1\n",
       "\n",
       "[354951 rows x 1 columns]"
      ]
     },
     "execution_count": 120,
     "metadata": {},
     "output_type": "execute_result"
    }
   ],
   "source": [
    "y_pred_rf1"
   ]
  },
  {
   "cell_type": "markdown",
   "metadata": {},
   "source": [
    "## SUBMISSION"
   ]
  },
  {
   "cell_type": "code",
   "execution_count": 126,
   "metadata": {},
   "outputs": [],
   "source": [
    "df_output=pd.DataFrame()"
   ]
  },
  {
   "cell_type": "code",
   "execution_count": 130,
   "metadata": {},
   "outputs": [],
   "source": [
    "a = test_df_2['member_id'].reset_index()\n",
    "df_output['member_id'] = a['member_id']"
   ]
  },
  {
   "cell_type": "code",
   "execution_count": 131,
   "metadata": {},
   "outputs": [
    {
     "data": {
      "text/html": [
       "<div>\n",
       "<style scoped>\n",
       "    .dataframe tbody tr th:only-of-type {\n",
       "        vertical-align: middle;\n",
       "    }\n",
       "\n",
       "    .dataframe tbody tr th {\n",
       "        vertical-align: top;\n",
       "    }\n",
       "\n",
       "    .dataframe thead th {\n",
       "        text-align: right;\n",
       "    }\n",
       "</style>\n",
       "<table border=\"1\" class=\"dataframe\">\n",
       "  <thead>\n",
       "    <tr style=\"text-align: right;\">\n",
       "      <th></th>\n",
       "      <th>member_id</th>\n",
       "    </tr>\n",
       "  </thead>\n",
       "  <tbody>\n",
       "    <tr>\n",
       "      <th>0</th>\n",
       "      <td>11937648</td>\n",
       "    </tr>\n",
       "    <tr>\n",
       "      <th>1</th>\n",
       "      <td>38983318</td>\n",
       "    </tr>\n",
       "    <tr>\n",
       "      <th>2</th>\n",
       "      <td>27999917</td>\n",
       "    </tr>\n",
       "    <tr>\n",
       "      <th>3</th>\n",
       "      <td>61514932</td>\n",
       "    </tr>\n",
       "    <tr>\n",
       "      <th>4</th>\n",
       "      <td>59622821</td>\n",
       "    </tr>\n",
       "    <tr>\n",
       "      <th>...</th>\n",
       "      <td>...</td>\n",
       "    </tr>\n",
       "    <tr>\n",
       "      <th>354946</th>\n",
       "      <td>19145105</td>\n",
       "    </tr>\n",
       "    <tr>\n",
       "      <th>354947</th>\n",
       "      <td>46304777</td>\n",
       "    </tr>\n",
       "    <tr>\n",
       "      <th>354948</th>\n",
       "      <td>903745</td>\n",
       "    </tr>\n",
       "    <tr>\n",
       "      <th>354949</th>\n",
       "      <td>53032475</td>\n",
       "    </tr>\n",
       "    <tr>\n",
       "      <th>354950</th>\n",
       "      <td>994245</td>\n",
       "    </tr>\n",
       "  </tbody>\n",
       "</table>\n",
       "<p>354951 rows × 1 columns</p>\n",
       "</div>"
      ],
      "text/plain": [
       "        member_id\n",
       "0        11937648\n",
       "1        38983318\n",
       "2        27999917\n",
       "3        61514932\n",
       "4        59622821\n",
       "...           ...\n",
       "354946   19145105\n",
       "354947   46304777\n",
       "354948     903745\n",
       "354949   53032475\n",
       "354950     994245\n",
       "\n",
       "[354951 rows x 1 columns]"
      ]
     },
     "execution_count": 131,
     "metadata": {},
     "output_type": "execute_result"
    }
   ],
   "source": [
    "df_output"
   ]
  },
  {
   "cell_type": "code",
   "execution_count": 133,
   "metadata": {},
   "outputs": [],
   "source": [
    "df_output['loan_status'] = y_pred_rf1"
   ]
  },
  {
   "cell_type": "code",
   "execution_count": 134,
   "metadata": {},
   "outputs": [
    {
     "data": {
      "text/html": [
       "<div>\n",
       "<style scoped>\n",
       "    .dataframe tbody tr th:only-of-type {\n",
       "        vertical-align: middle;\n",
       "    }\n",
       "\n",
       "    .dataframe tbody tr th {\n",
       "        vertical-align: top;\n",
       "    }\n",
       "\n",
       "    .dataframe thead th {\n",
       "        text-align: right;\n",
       "    }\n",
       "</style>\n",
       "<table border=\"1\" class=\"dataframe\">\n",
       "  <thead>\n",
       "    <tr style=\"text-align: right;\">\n",
       "      <th></th>\n",
       "      <th>member_id</th>\n",
       "      <th>loan_status</th>\n",
       "    </tr>\n",
       "  </thead>\n",
       "  <tbody>\n",
       "    <tr>\n",
       "      <th>0</th>\n",
       "      <td>11937648</td>\n",
       "      <td>0</td>\n",
       "    </tr>\n",
       "    <tr>\n",
       "      <th>1</th>\n",
       "      <td>38983318</td>\n",
       "      <td>0</td>\n",
       "    </tr>\n",
       "    <tr>\n",
       "      <th>2</th>\n",
       "      <td>27999917</td>\n",
       "      <td>0</td>\n",
       "    </tr>\n",
       "    <tr>\n",
       "      <th>3</th>\n",
       "      <td>61514932</td>\n",
       "      <td>0</td>\n",
       "    </tr>\n",
       "    <tr>\n",
       "      <th>4</th>\n",
       "      <td>59622821</td>\n",
       "      <td>0</td>\n",
       "    </tr>\n",
       "    <tr>\n",
       "      <th>...</th>\n",
       "      <td>...</td>\n",
       "      <td>...</td>\n",
       "    </tr>\n",
       "    <tr>\n",
       "      <th>354946</th>\n",
       "      <td>19145105</td>\n",
       "      <td>0</td>\n",
       "    </tr>\n",
       "    <tr>\n",
       "      <th>354947</th>\n",
       "      <td>46304777</td>\n",
       "      <td>0</td>\n",
       "    </tr>\n",
       "    <tr>\n",
       "      <th>354948</th>\n",
       "      <td>903745</td>\n",
       "      <td>1</td>\n",
       "    </tr>\n",
       "    <tr>\n",
       "      <th>354949</th>\n",
       "      <td>53032475</td>\n",
       "      <td>0</td>\n",
       "    </tr>\n",
       "    <tr>\n",
       "      <th>354950</th>\n",
       "      <td>994245</td>\n",
       "      <td>1</td>\n",
       "    </tr>\n",
       "  </tbody>\n",
       "</table>\n",
       "<p>354951 rows × 2 columns</p>\n",
       "</div>"
      ],
      "text/plain": [
       "        member_id  loan_status\n",
       "0        11937648            0\n",
       "1        38983318            0\n",
       "2        27999917            0\n",
       "3        61514932            0\n",
       "4        59622821            0\n",
       "...           ...          ...\n",
       "354946   19145105            0\n",
       "354947   46304777            0\n",
       "354948     903745            1\n",
       "354949   53032475            0\n",
       "354950     994245            1\n",
       "\n",
       "[354951 rows x 2 columns]"
      ]
     },
     "execution_count": 134,
     "metadata": {},
     "output_type": "execute_result"
    }
   ],
   "source": [
    "df_output"
   ]
  },
  {
   "cell_type": "code",
   "execution_count": null,
   "metadata": {},
   "outputs": [],
   "source": [
    "# df_output[['member_id','loan_status']].to_csv(r'C:\\Users\\PRACHI\\Downloads\\ML\\submission1.csv',index=False)"
   ]
  }
 ],
 "metadata": {
  "kernelspec": {
   "display_name": "Python 3",
   "language": "python",
   "name": "python3"
  },
  "language_info": {
   "codemirror_mode": {
    "name": "ipython",
    "version": 3
   },
   "file_extension": ".py",
   "mimetype": "text/x-python",
   "name": "python",
   "nbconvert_exporter": "python",
   "pygments_lexer": "ipython3",
   "version": "3.8.5"
  }
 },
 "nbformat": 4,
 "nbformat_minor": 4
}
